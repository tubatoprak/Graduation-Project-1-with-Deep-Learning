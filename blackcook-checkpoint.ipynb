{
 "cells": [
  {
   "cell_type": "code",
   "execution_count": 3,
   "metadata": {
    "_cell_guid": "b1076dfc-b9ad-4769-8c92-a6c4dae69d19",
    "_uuid": "8f2839f25d086af736a60e9eeb907d3b93b6e0e5"
   },
   "outputs": [
    {
     "name": "stderr",
     "output_type": "stream",
     "text": [
      "C:\\Users\\TOPRAK\\anaconda3\\envs\\bitirme\\lib\\site-packages\\numpy\\_distributor_init.py:30: UserWarning: loaded more than 1 DLL from .libs:\n",
      "C:\\Users\\TOPRAK\\anaconda3\\envs\\bitirme\\lib\\site-packages\\numpy\\.libs\\libopenblas.EL2C6PLE4ZYW3ECEVIV3OXXGRN2NRFM2.gfortran-win_amd64.dll\n",
      "C:\\Users\\TOPRAK\\anaconda3\\envs\\bitirme\\lib\\site-packages\\numpy\\.libs\\libopenblas64__v0.3.21-gcc_10_3_0.dll\n",
      "  warnings.warn(\"loaded more than 1 DLL from .libs:\"\n",
      "ERROR: Could not find a version that satisfies the requirement ploty (from versions: none)\n",
      "ERROR: No matching distribution found for ploty\n"
     ]
    },
    {
     "data": {
      "text/html": [
       "        <script type=\"text/javascript\">\n",
       "        window.PlotlyConfig = {MathJaxConfig: 'local'};\n",
       "        if (window.MathJax && window.MathJax.Hub && window.MathJax.Hub.Config) {window.MathJax.Hub.Config({SVG: {font: \"STIX-Web\"}});}\n",
       "        if (typeof require !== 'undefined') {\n",
       "        require.undef(\"plotly\");\n",
       "        requirejs.config({\n",
       "            paths: {\n",
       "                'plotly': ['https://cdn.plot.ly/plotly-2.12.1.min']\n",
       "            }\n",
       "        });\n",
       "        require(['plotly'], function(Plotly) {\n",
       "            window._Plotly = Plotly;\n",
       "        });\n",
       "        }\n",
       "        </script>\n",
       "        "
      ]
     },
     "metadata": {},
     "output_type": "display_data"
    },
    {
     "name": "stdout",
     "output_type": "stream",
     "text": [
      "Requirement already satisfied: gensim in c:\\users\\toprak\\anaconda3\\envs\\bitirme\\lib\\site-packages (4.3.0)\n",
      "Requirement already satisfied: Cython==0.29.32 in c:\\users\\toprak\\anaconda3\\envs\\bitirme\\lib\\site-packages (from gensim) (0.29.32)\n",
      "Requirement already satisfied: scipy>=1.7.0 in c:\\users\\toprak\\anaconda3\\envs\\bitirme\\lib\\site-packages (from gensim) (1.9.3)\n",
      "Requirement already satisfied: smart-open>=1.8.1 in c:\\users\\toprak\\anaconda3\\envs\\bitirme\\lib\\site-packages (from gensim) (6.3.0)\n",
      "Requirement already satisfied: numpy>=1.18.5 in c:\\users\\toprak\\anaconda3\\envs\\bitirme\\lib\\site-packages (from gensim) (1.24.1)\n",
      "Requirement already satisfied: FuzzyTM>=0.4.0 in c:\\users\\toprak\\anaconda3\\envs\\bitirme\\lib\\site-packages (from gensim) (2.0.5)\n",
      "Requirement already satisfied: pyfume in c:\\users\\toprak\\anaconda3\\envs\\bitirme\\lib\\site-packages (from FuzzyTM>=0.4.0->gensim) (0.2.25)\n",
      "Requirement already satisfied: pandas in c:\\users\\toprak\\anaconda3\\envs\\bitirme\\lib\\site-packages (from FuzzyTM>=0.4.0->gensim) (1.5.2)\n",
      "Requirement already satisfied: python-dateutil>=2.8.1 in c:\\users\\toprak\\anaconda3\\envs\\bitirme\\lib\\site-packages (from pandas->FuzzyTM>=0.4.0->gensim) (2.8.2)\n",
      "Requirement already satisfied: pytz>=2020.1 in c:\\users\\toprak\\anaconda3\\envs\\bitirme\\lib\\site-packages (from pandas->FuzzyTM>=0.4.0->gensim) (2022.7)\n",
      "Requirement already satisfied: fst-pso in c:\\users\\toprak\\anaconda3\\envs\\bitirme\\lib\\site-packages (from pyfume->FuzzyTM>=0.4.0->gensim) (1.8.1)\n",
      "Requirement already satisfied: simpful in c:\\users\\toprak\\anaconda3\\envs\\bitirme\\lib\\site-packages (from pyfume->FuzzyTM>=0.4.0->gensim) (2.9.0)\n",
      "Requirement already satisfied: six>=1.5 in c:\\users\\toprak\\anaconda3\\envs\\bitirme\\lib\\site-packages (from python-dateutil>=2.8.1->pandas->FuzzyTM>=0.4.0->gensim) (1.16.0)\n",
      "Requirement already satisfied: miniful in c:\\users\\toprak\\anaconda3\\envs\\bitirme\\lib\\site-packages (from fst-pso->pyfume->FuzzyTM>=0.4.0->gensim) (0.0.6)\n",
      "Requirement already satisfied: requests in c:\\users\\toprak\\anaconda3\\envs\\bitirme\\lib\\site-packages (from simpful->pyfume->FuzzyTM>=0.4.0->gensim) (2.28.2)\n",
      "Requirement already satisfied: certifi>=2017.4.17 in c:\\users\\toprak\\anaconda3\\envs\\bitirme\\lib\\site-packages (from requests->simpful->pyfume->FuzzyTM>=0.4.0->gensim) (2022.12.7)\n",
      "Requirement already satisfied: urllib3<1.27,>=1.21.1 in c:\\users\\toprak\\anaconda3\\envs\\bitirme\\lib\\site-packages (from requests->simpful->pyfume->FuzzyTM>=0.4.0->gensim) (1.26.14)\n",
      "Requirement already satisfied: charset-normalizer<4,>=2 in c:\\users\\toprak\\anaconda3\\envs\\bitirme\\lib\\site-packages (from requests->simpful->pyfume->FuzzyTM>=0.4.0->gensim) (3.0.1)\n",
      "Requirement already satisfied: idna<4,>=2.5 in c:\\users\\toprak\\anaconda3\\envs\\bitirme\\lib\\site-packages (from requests->simpful->pyfume->FuzzyTM>=0.4.0->gensim) (3.4)\n"
     ]
    }
   ],
   "source": [
    "#Importing all the Libraries needed\n",
    "#Data Preprocessing\n",
    "from ipywidgets import interact\n",
    "import unidecode\n",
    "import pandas as pd\n",
    "import random\n",
    "import json\n",
    "from collections import Counter\n",
    "from itertools import chain\n",
    "from sklearn.feature_extraction.text import TfidfVectorizer\n",
    "import numpy as np\n",
    "import re\n",
    "#https://pypi.org/project/tqdm/ information on tqdm\n",
    "from tqdm import tqdm\n",
    "tqdm.pandas()\n",
    "\n",
    "#Data Visualization\n",
    "import matplotlib.pyplot as plt\n",
    "import seaborn as sns\n",
    "!pip install ploty\n",
    "import plotly\n",
    "from plotly import tools\n",
    "from plotly.offline import download_plotlyjs, init_notebook_mode, plot, iplot \n",
    "init_notebook_mode(connected=True)\n",
    "import plotly.offline as offline\n",
    "import plotly.graph_objs as go\n",
    "import plotly.express as px\n",
    "\n",
    "# Data Modeling\n",
    "from sklearn.feature_extraction.text import CountVectorizer\n",
    "!python -m pip install -U gensim\n",
    "from gensim.models import FastText, Word2Vec\n",
    "from sklearn.decomposition import TruncatedSVD\n",
    "from sklearn.feature_extraction.text import CountVectorizer, TfidfVectorizer\n",
    "from sklearn.linear_model import LogisticRegression\n",
    "from sklearn.metrics import accuracy_score\n",
    "from sklearn.model_selection import KFold, cross_validate, train_test_split\n",
    "from sklearn.preprocessing import LabelEncoder\n",
    "from sklearn.preprocessing import MultiLabelBinarizer\n",
    "from sklearn.preprocessing import FunctionTransformer, LabelEncoder\n",
    "from sklearn.pipeline import make_pipeline, make_union\n",
    "from sklearn.preprocessing import LabelEncoder\n",
    "from sklearn.svm import SVC\n",
    "from sklearn.multiclass import OneVsRestClassifier\n",
    "from sklearn import model_selection \n",
    "from nltk.stem import WordNetLemmatizer\n",
    "import warnings\n",
    "warnings.filterwarnings('ignore')"
   ]
  },
  {
   "cell_type": "code",
   "execution_count": 4,
   "metadata": {},
   "outputs": [],
   "source": [
    "def random_colours(number_of_colors):\n",
    "    '''\n",
    "    Simple function for random colours generation.\n",
    "    Input:\n",
    "        number_of_colors - integer value indicating the number of colours which are going to be generated.\n",
    "    Output:\n",
    "        Color in the following format: ['#E86DA4'] .\n",
    "    '''\n",
    "    colors = []\n",
    "    for i in range(number_of_colors):\n",
    "        colors.append(\"#\"+''.join([random.choice('0123456789ABCDEF') for j in range(6)]))\n",
    "    return colors"
   ]
  },
  {
   "cell_type": "code",
   "execution_count": 5,
   "metadata": {},
   "outputs": [],
   "source": [
    "#Datayı temizle- keşfet"
   ]
  },
  {
   "cell_type": "code",
   "execution_count": 6,
   "metadata": {
    "_cell_guid": "79c7e3d0-c299-4dcb-8224-4455121ee9b0",
    "_uuid": "d629ff2d2480ee46fbb7e2d37f6b5fab8052498a"
   },
   "outputs": [],
   "source": [
    "train = pd.read_json(\"C:/Users/TOPRAK/Desktop/cook_recipe/aabbcc.json\")\n",
    "test = pd.read_json(\"C:/Users/TOPRAK/Desktop/cook_recipe/test.json\")"
   ]
  },
  {
   "cell_type": "code",
   "execution_count": 7,
   "metadata": {},
   "outputs": [
    {
     "name": "stdout",
     "output_type": "stream",
     "text": [
      "<class 'pandas.core.frame.DataFrame'>\n",
      "RangeIndex: 14774 entries, 0 to 14773\n",
      "Data columns (total 3 columns):\n",
      " #   Column       Non-Null Count  Dtype \n",
      "---  ------       --------------  ----- \n",
      " 0   id           14774 non-null  int64 \n",
      " 1   cuisine      14774 non-null  object\n",
      " 2   ingredients  14774 non-null  object\n",
      "dtypes: int64(1), object(2)\n",
      "memory usage: 346.4+ KB\n"
     ]
    }
   ],
   "source": [
    "train.info()"
   ]
  },
  {
   "cell_type": "code",
   "execution_count": 8,
   "metadata": {},
   "outputs": [
    {
     "name": "stdout",
     "output_type": "stream",
     "text": [
      "<class 'pandas.core.frame.DataFrame'>\n",
      "RangeIndex: 9944 entries, 0 to 9943\n",
      "Data columns (total 2 columns):\n",
      " #   Column       Non-Null Count  Dtype \n",
      "---  ------       --------------  ----- \n",
      " 0   id           9944 non-null   int64 \n",
      " 1   ingredients  9944 non-null   object\n",
      "dtypes: int64(1), object(1)\n",
      "memory usage: 155.5+ KB\n"
     ]
    }
   ],
   "source": [
    "test.info()"
   ]
  },
  {
   "cell_type": "code",
   "execution_count": 9,
   "metadata": {},
   "outputs": [
    {
     "data": {
      "text/html": [
       "<div>\n",
       "<style scoped>\n",
       "    .dataframe tbody tr th:only-of-type {\n",
       "        vertical-align: middle;\n",
       "    }\n",
       "\n",
       "    .dataframe tbody tr th {\n",
       "        vertical-align: top;\n",
       "    }\n",
       "\n",
       "    .dataframe thead th {\n",
       "        text-align: right;\n",
       "    }\n",
       "</style>\n",
       "<table border=\"1\" class=\"dataframe\">\n",
       "  <thead>\n",
       "    <tr style=\"text-align: right;\">\n",
       "      <th></th>\n",
       "      <th>id</th>\n",
       "      <th>cuisine</th>\n",
       "      <th>ingredients</th>\n",
       "    </tr>\n",
       "  </thead>\n",
       "  <tbody>\n",
       "    <tr>\n",
       "      <th>0</th>\n",
       "      <td>20130</td>\n",
       "      <td>filipino</td>\n",
       "      <td>[eggs, pepper, salt, mayonaise, cooking oil, g...</td>\n",
       "    </tr>\n",
       "    <tr>\n",
       "      <th>1</th>\n",
       "      <td>6602</td>\n",
       "      <td>jamaican</td>\n",
       "      <td>[plain flour, sugar, butter, eggs, fresh ginge...</td>\n",
       "    </tr>\n",
       "    <tr>\n",
       "      <th>2</th>\n",
       "      <td>42779</td>\n",
       "      <td>spanish</td>\n",
       "      <td>[olive oil, salt, medium shrimp, pepper, garli...</td>\n",
       "    </tr>\n",
       "    <tr>\n",
       "      <th>3</th>\n",
       "      <td>34466</td>\n",
       "      <td>british</td>\n",
       "      <td>[greek yogurt, lemon curd, confectioners sugar...</td>\n",
       "    </tr>\n",
       "    <tr>\n",
       "      <th>4</th>\n",
       "      <td>8152</td>\n",
       "      <td>vietnamese</td>\n",
       "      <td>[soy sauce, vegetable oil, red bell pepper, ch...</td>\n",
       "    </tr>\n",
       "  </tbody>\n",
       "</table>\n",
       "</div>"
      ],
      "text/plain": [
       "      id     cuisine                                        ingredients\n",
       "0  20130    filipino  [eggs, pepper, salt, mayonaise, cooking oil, g...\n",
       "1   6602    jamaican  [plain flour, sugar, butter, eggs, fresh ginge...\n",
       "2  42779     spanish  [olive oil, salt, medium shrimp, pepper, garli...\n",
       "3  34466     british  [greek yogurt, lemon curd, confectioners sugar...\n",
       "4   8152  vietnamese  [soy sauce, vegetable oil, red bell pepper, ch..."
      ]
     },
     "execution_count": 9,
     "metadata": {},
     "output_type": "execute_result"
    }
   ],
   "source": [
    "train.head()"
   ]
  },
  {
   "cell_type": "code",
   "execution_count": 10,
   "metadata": {},
   "outputs": [
    {
     "data": {
      "text/plain": [
       "array(['filipino', 'jamaican', 'spanish', 'british', 'vietnamese',\n",
       "       'brazilian', 'irish', 'korean', 'moroccan', 'russian',\n",
       "       'cajun_creole', 'greek', 'thai', 'indian', 'japanese', 'chinese',\n",
       "       'french', 'southern_us', 'italian', 'mexican'], dtype=object)"
      ]
     },
     "execution_count": 10,
     "metadata": {},
     "output_type": "execute_result"
    }
   ],
   "source": [
    "train['cuisine'].unique()"
   ]
  },
  {
   "cell_type": "code",
   "execution_count": 11,
   "metadata": {
    "scrolled": true
   },
   "outputs": [
    {
     "data": {
      "text/plain": [
       "<AxesSubplot:>"
      ]
     },
     "execution_count": 11,
     "metadata": {},
     "output_type": "execute_result"
    },
    {
     "data": {
      "image/png": "[encoded data removed]",
      "text/plain": [
       "<Figure size 1600x600 with 1 Axes>"
      ]
     },
     "metadata": {},
     "output_type": "display_data"
    }
   ],
   "source": [
    "train['cuisine'].value_counts().plot.bar(color=random_colours(20),figsize=(16,6))"
   ]
  },
  {
   "cell_type": "code",
   "execution_count": 12,
   "metadata": {},
   "outputs": [],
   "source": [
    "# Taking Out all the ingredients in the dataset and storing in a list\n",
    "#Veri kümesindeki mazlemeleri rawda topla\n",
    "raw_ingredients = [ing for ingredients in train['ingredients'] for ing in ingredients]"
   ]
  },
  {
   "cell_type": "code",
   "execution_count": 13,
   "metadata": {},
   "outputs": [
    {
     "name": "stdout",
     "output_type": "stream",
     "text": [
      "Maximum Number of Ingredients in a Cook:  59\n",
      "Minimum Number of Ingredients in a Cook:  1\n"
     ]
    }
   ],
   "source": [
    "#en uzun malzemeye sahip mutfak ve en az mutfak\n",
    "print('Maximum Number of Ingredients in a Cook: ',train['ingredients'].str.len().max())\n",
    "print('Minimum Number of Ingredients in a Cook: ',train['ingredients'].str.len().min())"
   ]
  },
  {
   "cell_type": "code",
   "execution_count": 14,
   "metadata": {},
   "outputs": [],
   "source": [
    "#Belirli bir Tarifte kullanılan Malzemelerin Sayısını sayan Bir Özellik Oluşturma\n",
    "train['num_ing'] = train['ingredients'].str.len()"
   ]
  },
  {
   "cell_type": "code",
   "execution_count": 15,
   "metadata": {},
   "outputs": [
    {
     "data": {
      "text/plain": [
       "<AxesSubplot:xlabel='num_ing', ylabel='count'>"
      ]
     },
     "execution_count": 15,
     "metadata": {},
     "output_type": "execute_result"
    },
    {
     "data": {
      "image/png": "[encoded data removed]",
      "text/plain": [
       "<Figure size 1600x600 with 1 Axes>"
      ]
     },
     "metadata": {},
     "output_type": "display_data"
    }
   ],
   "source": [
    "#Tarif uzunluğunun dağılımı ------------------------Kafası burada karışıyor modelin saf modelim :(\n",
    "plt.figure(figsize=(16,6))\n",
    "sns.countplot(x='num_ing',data=train)"
   ]
  },
  {
   "cell_type": "code",
   "execution_count": 16,
   "metadata": {},
   "outputs": [
    {
     "name": "stdout",
     "output_type": "stream",
     "text": [
      "15\n"
     ]
    }
   ],
   "source": [
    "#40 tarif 30'dan fazla malzemeden oluşuyor\n",
    "longrecip = train[train['num_ing'] > 30]\n",
    "print(len(longrecip))"
   ]
  },
  {
   "cell_type": "code",
   "execution_count": 17,
   "metadata": {},
   "outputs": [
    {
     "data": {
      "text/plain": [
       "cajun_creole    2\n",
       "jamaican        2\n",
       "brazilian       2\n",
       "moroccan        2\n",
       "filipino        1\n",
       "thai            1\n",
       "vietnamese      1\n",
       "spanish         1\n",
       "indian          1\n",
       "french          1\n",
       "italian         1\n",
       "Name: cuisine, dtype: int64"
      ]
     },
     "execution_count": 17,
     "metadata": {},
     "output_type": "execute_result"
    }
   ],
   "source": [
    "longrecip['cuisine'].value_counts()"
   ]
  },
  {
   "cell_type": "code",
   "execution_count": 18,
   "metadata": {},
   "outputs": [
    {
     "name": "stdout",
     "output_type": "stream",
     "text": [
      "[]\n",
      "Cuisine :- []\n"
     ]
    }
   ],
   "source": [
    "print(longrecip[longrecip['num_ing'] == 65]['ingredients'].values)\n",
    "print('Cuisine :-',longrecip[longrecip['num_ing'] == 65]['cuisine'].values)"
   ]
  },
  {
   "cell_type": "code",
   "execution_count": 19,
   "metadata": {},
   "outputs": [
    {
     "name": "stdout",
     "output_type": "stream",
     "text": [
      "81\n"
     ]
    }
   ],
   "source": [
    "#iki malzemeli tariflerin sayısı\n",
    "shortrecip = train[train['num_ing']<=2]\n",
    "print(len(shortrecip))"
   ]
  },
  {
   "cell_type": "code",
   "execution_count": 20,
   "metadata": {},
   "outputs": [
    {
     "data": {
      "text/plain": [
       "vietnamese      11\n",
       "spanish          8\n",
       "indian           7\n",
       "cajun_creole     6\n",
       "italian          6\n",
       "french           6\n",
       "japanese         6\n",
       "korean           5\n",
       "southern_us      4\n",
       "greek            3\n",
       "mexican          3\n",
       "brazilian        3\n",
       "irish            3\n",
       "filipino         3\n",
       "british          3\n",
       "moroccan         1\n",
       "chinese          1\n",
       "russian          1\n",
       "jamaican         1\n",
       "Name: cuisine, dtype: int64"
      ]
     },
     "execution_count": 20,
     "metadata": {},
     "output_type": "execute_result"
    }
   ],
   "source": [
    "shortrecip['cuisine'].value_counts()"
   ]
  },
  {
   "cell_type": "code",
   "execution_count": 21,
   "metadata": {},
   "outputs": [
    {
     "data": {
      "text/html": [
       "<div>\n",
       "<style scoped>\n",
       "    .dataframe tbody tr th:only-of-type {\n",
       "        vertical-align: middle;\n",
       "    }\n",
       "\n",
       "    .dataframe tbody tr th {\n",
       "        vertical-align: top;\n",
       "    }\n",
       "\n",
       "    .dataframe thead th {\n",
       "        text-align: right;\n",
       "    }\n",
       "</style>\n",
       "<table border=\"1\" class=\"dataframe\">\n",
       "  <thead>\n",
       "    <tr style=\"text-align: right;\">\n",
       "      <th></th>\n",
       "      <th>id</th>\n",
       "      <th>cuisine</th>\n",
       "      <th>ingredients</th>\n",
       "      <th>num_ing</th>\n",
       "    </tr>\n",
       "  </thead>\n",
       "  <tbody>\n",
       "    <tr>\n",
       "      <th>369</th>\n",
       "      <td>7833</td>\n",
       "      <td>vietnamese</td>\n",
       "      <td>[dried rice noodles]</td>\n",
       "      <td>1</td>\n",
       "    </tr>\n",
       "    <tr>\n",
       "      <th>7262</th>\n",
       "      <td>7460</td>\n",
       "      <td>spanish</td>\n",
       "      <td>[spanish chorizo]</td>\n",
       "      <td>1</td>\n",
       "    </tr>\n",
       "    <tr>\n",
       "      <th>7824</th>\n",
       "      <td>32772</td>\n",
       "      <td>spanish</td>\n",
       "      <td>[sweetened condensed milk]</td>\n",
       "      <td>1</td>\n",
       "    </tr>\n",
       "    <tr>\n",
       "      <th>8639</th>\n",
       "      <td>12805</td>\n",
       "      <td>japanese</td>\n",
       "      <td>[water]</td>\n",
       "      <td>1</td>\n",
       "    </tr>\n",
       "    <tr>\n",
       "      <th>10127</th>\n",
       "      <td>10816</td>\n",
       "      <td>greek</td>\n",
       "      <td>[phyllo]</td>\n",
       "      <td>1</td>\n",
       "    </tr>\n",
       "    <tr>\n",
       "      <th>12220</th>\n",
       "      <td>27192</td>\n",
       "      <td>indian</td>\n",
       "      <td>[unsalted butter]</td>\n",
       "      <td>1</td>\n",
       "    </tr>\n",
       "  </tbody>\n",
       "</table>\n",
       "</div>"
      ],
      "text/plain": [
       "          id     cuisine                 ingredients  num_ing\n",
       "369     7833  vietnamese        [dried rice noodles]        1\n",
       "7262    7460     spanish           [spanish chorizo]        1\n",
       "7824   32772     spanish  [sweetened condensed milk]        1\n",
       "8639   12805    japanese                     [water]        1\n",
       "10127  10816       greek                    [phyllo]        1\n",
       "12220  27192      indian           [unsalted butter]        1"
      ]
     },
     "execution_count": 21,
     "metadata": {},
     "output_type": "execute_result"
    }
   ],
   "source": [
    "#bir malzemeli tariflerin sayısı\n",
    "train[train['num_ing'] <= 1]"
   ]
  },
  {
   "cell_type": "code",
   "execution_count": 22,
   "metadata": {},
   "outputs": [
    {
     "data": {
      "text/plain": [
       "['v8']"
      ]
     },
     "execution_count": 22,
     "metadata": {},
     "output_type": "execute_result"
    }
   ],
   "source": [
    "#mi çin v8 meksika ve italya\n",
    "[ingredient for ingredient in raw_ingredients if len(ingredient) <= 2]"
   ]
  },
  {
   "cell_type": "code",
   "execution_count": 23,
   "metadata": {},
   "outputs": [
    {
     "data": {
      "text/plain": [
       "<AxesSubplot:xlabel='cuisine', ylabel='num_ing'>"
      ]
     },
     "execution_count": 23,
     "metadata": {},
     "output_type": "execute_result"
    },
    {
     "data": {
      "image/png": "[encoded data removed]",
      "text/plain": [
       "<Figure size 2000x800 with 1 Axes>"
      ]
     },
     "metadata": {},
     "output_type": "display_data"
    }
   ],
   "source": [
    "#Her mutfaktaki tarif uzunluk dağılımı\n",
    "plt.figure(figsize=(20,8))\n",
    "sns.boxplot(x='cuisine',y='num_ing',data=train)"
   ]
  },
  {
   "cell_type": "code",
   "execution_count": 24,
   "metadata": {},
   "outputs": [
    {
     "data": {
      "text/plain": [
       "\"  ! % & ' ( ) , - . 0 1 2 3 4 5 6 7 8 9 ® â ç è é î ú ’ ™\""
      ]
     },
     "execution_count": 24,
     "metadata": {},
     "output_type": "execute_result"
    }
   ],
   "source": [
    "#özel karakterleri keşfet ve sonra sil, Bertolli® Alfredo Sauce Progresso™ ,halfandhalf\n",
    "' '.join(sorted([char for char in set(' '.join(raw_ingredients)) if re.findall('[^A-Za-z]', char)]))"
   ]
  },
  {
   "cell_type": "code",
   "execution_count": 25,
   "metadata": {},
   "outputs": [
    {
     "data": {
      "text/plain": [
       "['Bordelaise sauce',\n",
       " 'Hawaiian salt',\n",
       " 'Nilla Wafers',\n",
       " 'Johnsonville Smoked Sausage',\n",
       " 'Holland House White Wine Vinegar']"
      ]
     },
     "execution_count": 25,
     "metadata": {},
     "output_type": "execute_result"
    }
   ],
   "source": [
    "#Firma isimleri ve bölge isimleri kullanıldığı için büyük harfle yazılmış olabilir onları keşfet\n",
    "list(set([ingredient for ingredient in raw_ingredients if re.findall('[A-Z]+', ingredient)]))[:5]"
   ]
  },
  {
   "cell_type": "code",
   "execution_count": 26,
   "metadata": {
    "scrolled": true
   },
   "outputs": [
    {
     "data": {
      "text/plain": [
       "['Breakstone’s Sour Cream', 'sheep’s milk cheese']"
      ]
     },
     "execution_count": 26,
     "metadata": {},
     "output_type": "execute_result"
    }
   ],
   "source": [
    "# kesme işareti--- Apostrophes\n",
    "list(set([ingredient for ingredient in raw_ingredients if '’' in ingredient]))"
   ]
  },
  {
   "cell_type": "code",
   "execution_count": 27,
   "metadata": {},
   "outputs": [
    {
     "data": {
      "text/plain": [
       "['wish-bone light asian sesame ginger vinaigrette dressing',\n",
       " 'oil-cured black olives',\n",
       " 'broiler-fryer chicken',\n",
       " 'deep-fried tofu',\n",
       " 'long-grain rice']"
      ]
     },
     "execution_count": 27,
     "metadata": {},
     "output_type": "execute_result"
    }
   ],
   "source": [
    "# tireleri keşfet boşlukla değiştir sonra\n",
    "list(set([ingredient for ingredient in raw_ingredients if re.findall('-', ingredient)]))[:5]"
   ]
  },
  {
   "cell_type": "code",
   "execution_count": 28,
   "metadata": {},
   "outputs": [
    {
     "data": {
      "text/plain": [
       "['2% reduced-fat milk',\n",
       " 'V8 Juice',\n",
       " 'licor 43',\n",
       " 'mexican style 4 cheese blend',\n",
       " '2% milk shredded mozzarella cheese',\n",
       " 'low sodium 96% fat free ham']"
      ]
     },
     "execution_count": 28,
     "metadata": {},
     "output_type": "execute_result"
    }
   ],
   "source": [
    "#sayıları keşfet\n",
    "temp_ing = list(set([ingredient for ingredient in raw_ingredients if re.findall('[0-9]', ingredient)]))\n",
    "temp_ing[:6]"
   ]
  },
  {
   "cell_type": "code",
   "execution_count": 29,
   "metadata": {},
   "outputs": [
    {
     "data": {
      "text/plain": [
       "16"
      ]
     },
     "execution_count": 29,
     "metadata": {},
     "output_type": "execute_result"
    }
   ],
   "source": [
    "# kaç tarifte sayılar sayılar var   -- 40 az sayıları kaldır \n",
    "len(temp_ing)"
   ]
  },
  {
   "cell_type": "code",
   "execution_count": 30,
   "metadata": {},
   "outputs": [
    {
     "data": {
      "application/vnd.jupyter.widget-view+json": {
       "model_id": "d1dfa956ecdc47a3bfaf146ecc473993",
       "version_major": 2,
       "version_minor": 0
      },
      "text/plain": [
       "interactive(children=(Dropdown(description='unit', options=('inch', 'oz', 'lb', 'ounc', '%'), value='inch'), O…"
      ]
     },
     "metadata": {},
     "output_type": "display_data"
    }
   ],
   "source": [
    "#birimlei keşfet-----------------------------birimleri sil\n",
    "units = ['inch', 'oz', 'lb', 'ounc', '%'] \n",
    "\n",
    "@interact(unit=units)         #internetten aldım menü için\n",
    "def f(unit):\n",
    "    ingredients_df = pd.DataFrame([ingredient for ingredient in raw_ingredients if unit in ingredient], columns=['ingredient'])\n",
    "    return ingredients_df.groupby(['ingredient']).size().reset_index(name='count').sort_values(['count'], ascending=False)"
   ]
  },
  {
   "cell_type": "code",
   "execution_count": 31,
   "metadata": {},
   "outputs": [],
   "source": [
    "# bölgeleri keşfet silme işine yarar. yunan yoğurdu,fransız peyniri amerikan peyniri gibi\n",
    "keywords = ['american', 'greek', 'filipino', 'indian', 'jamaican', 'spanish', 'italian', 'mexican', 'chinese', 'thai',\n",
    "    'vietnamese', 'cajun', 'creole', 'french', 'japanese', 'irish', 'korean', 'moroccan', 'russian',\n",
    "]\n",
    "d ={}\n",
    "for k in keywords:\n",
    "    temp = [ingredient for ingredient in raw_ingredients if k in ingredient]\n",
    "    d[k] = temp"
   ]
  },
  {
   "cell_type": "code",
   "execution_count": 32,
   "metadata": {},
   "outputs": [
    {
     "data": {
      "text/plain": [
       "['american cheese slices']"
      ]
     },
     "execution_count": 32,
     "metadata": {},
     "output_type": "execute_result"
    }
   ],
   "source": [
    "d['american']"
   ]
  },
  {
   "cell_type": "code",
   "execution_count": 33,
   "metadata": {},
   "outputs": [],
   "source": [
    "#en yaygın içerikleri bul    --------en yaygın olanları çıkar tuz  yağ su her yemekte var\n",
    "top = Counter([item for sublist in train['ingredients'] for item in sublist])\n",
    "#print(top.most_common(20))"
   ]
  },
  {
   "cell_type": "code",
   "execution_count": 34,
   "metadata": {},
   "outputs": [
    {
     "data": {
      "text/plain": [
       "<AxesSubplot:xlabel='total_count', ylabel='ingredients'>"
      ]
     },
     "execution_count": 34,
     "metadata": {},
     "output_type": "execute_result"
    },
    {
     "data": {
      "image/png": "[encoded data removed]",
      "text/plain": [
       "<Figure size 900x500 with 1 Axes>"
      ]
     },
     "metadata": {},
     "output_type": "display_data"
    }
   ],
   "source": [
    "temp = pd.DataFrame(top.most_common(20))\n",
    "temp.columns = ['ingredients','total_count']\n",
    "plt.figure(figsize=(9,5))\n",
    "sns.barplot(x='total_count',y='ingredients',data=temp)     "
   ]
  },
  {
   "cell_type": "code",
   "execution_count": 35,
   "metadata": {},
   "outputs": [],
   "source": [
    "#kaç farklı tarif var   hint mıtfağı  fransız mutfağı arasındaki farka bak  baharattan dolayı\n",
    "labels = ['greek', 'southern_us', 'filipino', 'indian', 'jamaican',\n",
    "       'spanish', 'italian', 'mexican', 'chinese', 'british', 'thai',\n",
    "       'vietnamese', 'cajun_creole', 'brazilian', 'french', 'japanese',\n",
    "       'irish', 'korean', 'moroccan', 'russian']\n",
    "templist=[]\n",
    "for cus in labels:\n",
    "    lisofing=[]\n",
    "    for lis in train[train['cuisine'] == cus]['ingredients']:\n",
    "        for ing in lis:\n",
    "            lisofing.append(ing)\n",
    "    templist.append([cus,len(list(set(lisofing)))])\n",
    "Unique_ing = pd.DataFrame(templist,columns=['cuisine','unique_ing']).sort_values(by='unique_ing',ascending=False)"
   ]
  },
  {
   "cell_type": "code",
   "execution_count": 36,
   "metadata": {},
   "outputs": [
    {
     "data": {
      "text/plain": [
       "<AxesSubplot:xlabel='cuisine', ylabel='unique_ing'>"
      ]
     },
     "execution_count": 36,
     "metadata": {},
     "output_type": "execute_result"
    },
    {
     "data": {
      "image/png": "[encoded data removed]",
      "text/plain": [
       "<Figure size 2000x800 with 1 Axes>"
      ]
     },
     "metadata": {},
     "output_type": "display_data"
    }
   ],
   "source": [
    "plt.figure(figsize=(20,8))\n",
    "sns.barplot(x='cuisine',y='unique_ing',data=Unique_ing)"
   ]
  },
  {
   "cell_type": "code",
   "execution_count": 37,
   "metadata": {},
   "outputs": [],
   "source": [
    "# mutfakta kullanılan  top numingr malzeme sayısını göster ---\n",
    "# output--- belirli bir malzemenin adı ve seçilen mutfakta kaç kez geçtiğini gönder\n",
    "\n",
    "\n",
    "def cuisine_unique(cuisine,numingr,raw_ingredients):\n",
    " \n",
    "       # allingredients -  train_data[train_data.cuisine == cuisine]['ingredients']:\n",
    "\n",
    "    allother = []\n",
    "    for item in train[train.cuisine != cuisine]['ingredients']:\n",
    "        for ingr in item:\n",
    "            allother .append(ingr)\n",
    "    allother  = list(set(allother ))\n",
    "    \n",
    "    specificnonly = [x for x in raw_ingredients if x not in allother]   # stackoverflow da soru\n",
    "    \n",
    "    mycounter = Counter()\n",
    "     \n",
    "    for item in train[train.cuisine == cuisine]['ingredients']:\n",
    "        for ingr in item:\n",
    "            mycounter[ingr] += 1\n",
    "    keep = list(specificnonly)\n",
    "    \n",
    "    for word in list(mycounter):\n",
    "        if word not in keep:\n",
    "            del mycounter[word]\n",
    "    \n",
    "    cuisinespec = pd.DataFrame(mycounter.most_common(numingr), columns = ['ingredient','count'])\n",
    "    \n",
    "    return cuisinespec"
   ]
  },
  {
   "cell_type": "code",
   "execution_count": 38,
   "metadata": {},
   "outputs": [
    {
     "name": "stdout",
     "output_type": "stream",
     "text": [
      "The top 10 unique ingredients in Mexican cuisine are:\n"
     ]
    },
    {
     "data": {
      "text/html": [
       "<div>\n",
       "<style scoped>\n",
       "    .dataframe tbody tr th:only-of-type {\n",
       "        vertical-align: middle;\n",
       "    }\n",
       "\n",
       "    .dataframe tbody tr th {\n",
       "        vertical-align: top;\n",
       "    }\n",
       "\n",
       "    .dataframe thead th {\n",
       "        text-align: right;\n",
       "    }\n",
       "</style>\n",
       "<table border=\"1\" class=\"dataframe\">\n",
       "  <thead>\n",
       "    <tr style=\"text-align: right;\">\n",
       "      <th></th>\n",
       "      <th>ingredient</th>\n",
       "      <th>count</th>\n",
       "    </tr>\n",
       "  </thead>\n",
       "  <tbody>\n",
       "    <tr>\n",
       "      <th>0</th>\n",
       "      <td>fermented black beans</td>\n",
       "      <td>8</td>\n",
       "    </tr>\n",
       "    <tr>\n",
       "      <th>1</th>\n",
       "      <td>chinkiang vinegar</td>\n",
       "      <td>6</td>\n",
       "    </tr>\n",
       "  </tbody>\n",
       "</table>\n",
       "</div>"
      ],
      "text/plain": [
       "              ingredient  count\n",
       "0  fermented black beans      8\n",
       "1      chinkiang vinegar      6"
      ]
     },
     "execution_count": 38,
     "metadata": {},
     "output_type": "execute_result"
    }
   ],
   "source": [
    "# meksika mutfağında kullanılan  top 10 malzeme\n",
    "cuisinespec= cuisine_unique('chinese', 2, raw_ingredients)\n",
    "print(\"The top 10 unique ingredients in Mexican cuisine are:\")\n",
    "cuisinespec"
   ]
  },
  {
   "cell_type": "code",
   "execution_count": 39,
   "metadata": {},
   "outputs": [],
   "source": [
    "#sil Outlier  -bir malzemeli olanları\n",
    "train = train[train['num_ing'] > 1]"
   ]
  },
  {
   "cell_type": "code",
   "execution_count": 40,
   "metadata": {},
   "outputs": [],
   "source": [
    "# remove outlier --- en fazla malzemeli olan tarif\n",
    "train = train[train['num_ing']<60]"
   ]
  },
  {
   "cell_type": "code",
   "execution_count": 41,
   "metadata": {},
   "outputs": [
    {
     "name": "stdout",
     "output_type": "stream",
     "text": [
      "<class 'pandas.core.frame.DataFrame'>\n",
      "Int64Index: 14768 entries, 0 to 14773\n",
      "Data columns (total 4 columns):\n",
      " #   Column       Non-Null Count  Dtype \n",
      "---  ------       --------------  ----- \n",
      " 0   id           14768 non-null  int64 \n",
      " 1   cuisine      14768 non-null  object\n",
      " 2   ingredients  14768 non-null  object\n",
      " 3   num_ing      14768 non-null  int64 \n",
      "dtypes: int64(2), object(2)\n",
      "memory usage: 576.9+ KB\n"
     ]
    }
   ],
   "source": [
    "#22 değer yok \n",
    "train.info()"
   ]
  },
  {
   "cell_type": "code",
   "execution_count": 42,
   "metadata": {},
   "outputs": [
    {
     "data": {
      "text/plain": [
       "(14768, 4)"
      ]
     },
     "execution_count": 42,
     "metadata": {},
     "output_type": "execute_result"
    }
   ],
   "source": [
    "train.shape"
   ]
  },
  {
   "cell_type": "code",
   "execution_count": 43,
   "metadata": {},
   "outputs": [],
   "source": [
    "# lemmatizasyon\n",
    "\n",
    "lemmatizer = WordNetLemmatizer()\n",
    "def preprocess(ingredients):\n",
    "    ingredients_text = ' '.join(ingredients)\n",
    "    ingredients_text = ingredients_text.lower() #Lowercase yap\n",
    "    ingredients_text = ingredients_text.replace('-', ' ') # Remove tire Hyphen\n",
    "    words = []\n",
    "    for word in ingredients_text.split():\n",
    "        word = re.sub(\"[0-9]\",\" \",word) #   removing numbers,kesme işaret -punctuations and special characters\n",
    "        word = re.sub((r'\\b(oz|ounc|ounce|pound|lb|inch|inches|kg|to)\\b'), ' ', word) # Removing Units\n",
    "        if len(word) <= 2: continue # Removing words with less than two characters\n",
    "        word = unidecode.unidecode(word) #Removing accents\n",
    "        word = lemmatizer.lemmatize(word) #Lemmatize\n",
    "        if len(word) > 0: words.append(word)\n",
    "    return ' '.join(words)"
   ]
  },
  {
   "cell_type": "code",
   "execution_count": 44,
   "metadata": {},
   "outputs": [],
   "source": [
    "#Checking if our function works\n",
    "for ingredient, expected in [\n",
    "    ('Eggs', 'egg'),\n",
    "    ('all-purpose flour', 'all purpose flour'),\n",
    "    ('purée', 'puree'),\n",
    "    ('1% low-fat milk', 'low fat milk'),\n",
    "    ('half & half', 'half half'),\n",
    "    ('safetida (powder)', 'safetida (powder)')\n",
    "]:\n",
    "    actual = preprocess([ingredient])\n",
    "    assert actual == expected, f'\"{expected}\" is excpected but got \"{actual}\"'"
   ]
  },
  {
   "cell_type": "code",
   "execution_count": 45,
   "metadata": {},
   "outputs": [
    {
     "name": "stderr",
     "output_type": "stream",
     "text": [
      "100%|██████████████████████████████████████████████████████████████████████████| 14768/14768 [00:03<00:00, 4782.80it/s]\n",
      "100%|████████████████████████████████████████████████████████████████████████████| 9944/9944 [00:02<00:00, 4836.58it/s]\n"
     ]
    },
    {
     "data": {
      "text/html": [
       "<div>\n",
       "<style scoped>\n",
       "    .dataframe tbody tr th:only-of-type {\n",
       "        vertical-align: middle;\n",
       "    }\n",
       "\n",
       "    .dataframe tbody tr th {\n",
       "        vertical-align: top;\n",
       "    }\n",
       "\n",
       "    .dataframe thead th {\n",
       "        text-align: right;\n",
       "    }\n",
       "</style>\n",
       "<table border=\"1\" class=\"dataframe\">\n",
       "  <thead>\n",
       "    <tr style=\"text-align: right;\">\n",
       "      <th></th>\n",
       "      <th>id</th>\n",
       "      <th>cuisine</th>\n",
       "      <th>ingredients</th>\n",
       "      <th>num_ing</th>\n",
       "      <th>x</th>\n",
       "    </tr>\n",
       "  </thead>\n",
       "  <tbody>\n",
       "    <tr>\n",
       "      <th>0</th>\n",
       "      <td>20130</td>\n",
       "      <td>filipino</td>\n",
       "      <td>[eggs, pepper, salt, mayonaise, cooking oil, g...</td>\n",
       "      <td>12</td>\n",
       "      <td>egg pepper salt mayonaise cooking oil green ch...</td>\n",
       "    </tr>\n",
       "    <tr>\n",
       "      <th>1</th>\n",
       "      <td>6602</td>\n",
       "      <td>jamaican</td>\n",
       "      <td>[plain flour, sugar, butter, eggs, fresh ginge...</td>\n",
       "      <td>12</td>\n",
       "      <td>plain flour sugar butter egg fresh ginger root...</td>\n",
       "    </tr>\n",
       "    <tr>\n",
       "      <th>2</th>\n",
       "      <td>42779</td>\n",
       "      <td>spanish</td>\n",
       "      <td>[olive oil, salt, medium shrimp, pepper, garli...</td>\n",
       "      <td>13</td>\n",
       "      <td>olive oil salt medium shrimp pepper garlic cho...</td>\n",
       "    </tr>\n",
       "    <tr>\n",
       "      <th>3</th>\n",
       "      <td>34466</td>\n",
       "      <td>british</td>\n",
       "      <td>[greek yogurt, lemon curd, confectioners sugar...</td>\n",
       "      <td>4</td>\n",
       "      <td>greek yogurt lemon curd confectioner sugar ras...</td>\n",
       "    </tr>\n",
       "    <tr>\n",
       "      <th>4</th>\n",
       "      <td>8152</td>\n",
       "      <td>vietnamese</td>\n",
       "      <td>[soy sauce, vegetable oil, red bell pepper, ch...</td>\n",
       "      <td>13</td>\n",
       "      <td>soy sauce vegetable oil red bell pepper chicke...</td>\n",
       "    </tr>\n",
       "  </tbody>\n",
       "</table>\n",
       "</div>"
      ],
      "text/plain": [
       "      id     cuisine                                        ingredients  \\\n",
       "0  20130    filipino  [eggs, pepper, salt, mayonaise, cooking oil, g...   \n",
       "1   6602    jamaican  [plain flour, sugar, butter, eggs, fresh ginge...   \n",
       "2  42779     spanish  [olive oil, salt, medium shrimp, pepper, garli...   \n",
       "3  34466     british  [greek yogurt, lemon curd, confectioners sugar...   \n",
       "4   8152  vietnamese  [soy sauce, vegetable oil, red bell pepper, ch...   \n",
       "\n",
       "   num_ing                                                  x  \n",
       "0       12  egg pepper salt mayonaise cooking oil green ch...  \n",
       "1       12  plain flour sugar butter egg fresh ginger root...  \n",
       "2       13  olive oil salt medium shrimp pepper garlic cho...  \n",
       "3        4  greek yogurt lemon curd confectioner sugar ras...  \n",
       "4       13  soy sauce vegetable oil red bell pepper chicke...  "
      ]
     },
     "execution_count": 45,
     "metadata": {},
     "output_type": "execute_result"
    }
   ],
   "source": [
    "#progress_apply(preprocess) bar şeklinde göstererek virgül silmek için stakoverflowdan düzenle \n",
    "train['x'] = train['ingredients'].progress_apply(preprocess)\n",
    "test['x'] = test['ingredients'].progress_apply(preprocess)\n",
    "train.head()"
   ]
  },
  {
   "cell_type": "code",
   "execution_count": 46,
   "metadata": {},
   "outputs": [
    {
     "name": "stdout",
     "output_type": "stream",
     "text": [
      "------------------------------sayısala döndürme adımı(tfidf)-----------------------------------\n"
     ]
    }
   ],
   "source": [
    "print(\"------------------------------sayısala döndürme adımı(tfidf)-----------------------------------\")"
   ]
  },
  {
   "cell_type": "code",
   "execution_count": 47,
   "metadata": {},
   "outputs": [],
   "source": [
    "vectorizer = TfidfVectorizer(sublinear_tf=True)"
   ]
  },
  {
   "cell_type": "code",
   "execution_count": 48,
   "metadata": {},
   "outputs": [],
   "source": [
    "#x train parametresi \n",
    "X_train = vectorizer.fit_transform(train['x'].values)  #tarif listesini düzeltti\n",
    "X_train.sort_indices()\n",
    "X_test = vectorizer.transform(test['x'].values)"
   ]
  },
  {
   "cell_type": "code",
   "execution_count": 49,
   "metadata": {},
   "outputs": [],
   "source": [
    "#label kısmı oluştur y parametresi\n",
    "label_encoder = LabelEncoder()\n",
    "Y_train = label_encoder.fit_transform(train['cuisine'].values)    #mutfakları labelledi"
   ]
  },
  {
   "cell_type": "code",
   "execution_count": 50,
   "metadata": {},
   "outputs": [],
   "source": [
    "classifier = SVC(C=100, # penalty parameter\n",
    "\t \t\t\t kernel='rbf', # kernel type, rbf working fine here\n",
    "\t \t\t\t degree=3, # default value\n",
    "\t \t\t\t gamma=1, # kernel coefficient\n",
    "\t \t\t\t coef0=1, # change to 1 from default value of 0.0\n",
    "\t \t\t\t shrinking=True, # using shrinking heuristics\n",
    "\t \t\t\t tol=0.001, # stopping criterion tolerance \n",
    "\t      \t\t probability=False, # no need to enable probability estimates\n",
    "\t      \t\t cache_size=200, # 200 MB cache size\n",
    "\t      \t\t class_weight=None, # all classes are treated equally \n",
    "\t      \t\t verbose=False, # print the logs \n",
    "\t      \t\t max_iter=-1, # no limit, let it run\n",
    "          \t\t decision_function_shape='ovo', # will use one vs rest explicitly \n",
    "          \t\t random_state=None)"
   ]
  },
  {
   "cell_type": "code",
   "execution_count": 51,
   "metadata": {},
   "outputs": [
    {
     "name": "stdout",
     "output_type": "stream",
     "text": [
      "(14768, 2229)\n",
      "(14768,)\n",
      "(9944, 2229)\n"
     ]
    }
   ],
   "source": [
    "print(X_train.shape)\n",
    "print(Y_train.shape)\n",
    "print(X_test.shape)"
   ]
  },
  {
   "cell_type": "code",
   "execution_count": 52,
   "metadata": {},
   "outputs": [
    {
     "data": {
      "text/plain": [
       "OneVsRestClassifier(estimator=SVC(C=100, coef0=1, decision_function_shape='ovo',\n",
       "                                  gamma=1),\n",
       "                    n_jobs=4)"
      ]
     },
     "execution_count": 52,
     "metadata": {},
     "output_type": "execute_result"
    }
   ],
   "source": [
    "#modeli fitle\n",
    "model = OneVsRestClassifier(classifier, n_jobs=4)\n",
    "model.fit(X_train, Y_train)"
   ]
  },
  {
   "cell_type": "code",
   "execution_count": 53,
   "metadata": {},
   "outputs": [
    {
     "name": "stdout",
     "output_type": "stream",
     "text": [
      "Predict on test data ... \n"
     ]
    }
   ],
   "source": [
    "print (\"Predict on test data ... \")\n",
    "Y_test = model.predict(X_test)   #modeli tahmin et\n",
    "Y_pred = label_encoder.inverse_transform(Y_test)    # sayısaldan anladığımız dile çevirdi."
   ]
  },
  {
   "cell_type": "code",
   "execution_count": 54,
   "metadata": {},
   "outputs": [
    {
     "data": {
      "text/plain": [
       "array(['russian', 'southern_us', 'italian', 'cajun_creole', 'italian',\n",
       "       'southern_us', 'spanish', 'chinese', 'mexican', 'british',\n",
       "       'italian', 'greek', 'indian', 'italian', 'british', 'french',\n",
       "       'jamaican', 'british', 'mexican', 'southern_us'], dtype=object)"
      ]
     },
     "execution_count": 54,
     "metadata": {},
     "output_type": "execute_result"
    }
   ],
   "source": [
    "Y_pred[:20]"
   ]
  },
  {
   "cell_type": "code",
   "execution_count": 55,
   "metadata": {},
   "outputs": [],
   "source": [
    "test_id = test['id']\n",
    "sub = pd.DataFrame({'id': test_id, 'cuisine': Y_pred}, columns=['id', 'cuisine'])\n",
    "sub.to_csv('pred_submission.csv', index=False)"
   ]
  },
  {
   "cell_type": "code",
   "execution_count": 56,
   "metadata": {},
   "outputs": [
    {
     "data": {
      "text/html": [
       "<div>\n",
       "<style scoped>\n",
       "    .dataframe tbody tr th:only-of-type {\n",
       "        vertical-align: middle;\n",
       "    }\n",
       "\n",
       "    .dataframe tbody tr th {\n",
       "        vertical-align: top;\n",
       "    }\n",
       "\n",
       "    .dataframe thead th {\n",
       "        text-align: right;\n",
       "    }\n",
       "</style>\n",
       "<table border=\"1\" class=\"dataframe\">\n",
       "  <thead>\n",
       "    <tr style=\"text-align: right;\">\n",
       "      <th></th>\n",
       "      <th>id</th>\n",
       "      <th>cuisine</th>\n",
       "    </tr>\n",
       "  </thead>\n",
       "  <tbody>\n",
       "    <tr>\n",
       "      <th>0</th>\n",
       "      <td>18009</td>\n",
       "      <td>russian</td>\n",
       "    </tr>\n",
       "    <tr>\n",
       "      <th>1</th>\n",
       "      <td>28583</td>\n",
       "      <td>southern_us</td>\n",
       "    </tr>\n",
       "    <tr>\n",
       "      <th>2</th>\n",
       "      <td>41580</td>\n",
       "      <td>italian</td>\n",
       "    </tr>\n",
       "    <tr>\n",
       "      <th>3</th>\n",
       "      <td>29752</td>\n",
       "      <td>cajun_creole</td>\n",
       "    </tr>\n",
       "    <tr>\n",
       "      <th>4</th>\n",
       "      <td>35687</td>\n",
       "      <td>italian</td>\n",
       "    </tr>\n",
       "  </tbody>\n",
       "</table>\n",
       "</div>"
      ],
      "text/plain": [
       "      id       cuisine\n",
       "0  18009       russian\n",
       "1  28583   southern_us\n",
       "2  41580       italian\n",
       "3  29752  cajun_creole\n",
       "4  35687       italian"
      ]
     },
     "execution_count": 56,
     "metadata": {},
     "output_type": "execute_result"
    }
   ],
   "source": [
    "sub.head()"
   ]
  },
  {
   "cell_type": "code",
   "execution_count": 57,
   "metadata": {},
   "outputs": [],
   "source": [
    "correct_test = pd.read_csv(\"C:/Users/TOPRAK/Desktop/cook_recipe/correct_submission.csv\")\n",
    "correct_test.drop([\"id\"],axis = 1,inplace =True)\n"
   ]
  },
  {
   "cell_type": "code",
   "execution_count": 58,
   "metadata": {},
   "outputs": [],
   "source": [
    "from sklearn.metrics import accuracy_score\n",
    "soc = accuracy_score(Y_pred,correct_test)"
   ]
  },
  {
   "cell_type": "code",
   "execution_count": 59,
   "metadata": {},
   "outputs": [
    {
     "name": "stdout",
     "output_type": "stream",
     "text": [
      "0.8030973451327433\n"
     ]
    }
   ],
   "source": [
    "print( soc)"
   ]
  },
  {
   "cell_type": "code",
   "execution_count": 60,
   "metadata": {},
   "outputs": [
    {
     "name": "stdout",
     "output_type": "stream",
     "text": [
      "Requirement already satisfied: tk in c:\\users\\toprak\\anaconda3\\envs\\bitirme\\lib\\site-packages (0.1.0)\n"
     ]
    }
   ],
   "source": [
    "!pip install tk\n",
    "import tkinter\n"
   ]
  },
  {
   "cell_type": "code",
   "execution_count": null,
   "metadata": {},
   "outputs": [],
   "source": []
  },
  {
   "cell_type": "code",
   "execution_count": 78,
   "metadata": {
    "scrolled": false
   },
   "outputs": [
    {
     "name": "stdout",
     "output_type": "stream",
     "text": [
      "Predict on test data ... \n"
     ]
    }
   ],
   "source": [
    "from tkinter import *\n",
    "from tkinter import messagebox\n",
    "from PIL import ImageTk, Image\n",
    "\n",
    "# ROOT=tk.TK()\n",
    "\n",
    " \n",
    "root =  Tk()\n",
    "root.geometry(\"600x900\")\n",
    "root.title(\" Predict Cuisine \")\n",
    "\n",
    "vectorizer.fit_transform(train['x'].values)\n",
    "image = Image.open('back.jpg')\n",
    "bg = ImageTk.PhotoImage(image)\n",
    "\n",
    "canvas1 = Canvas( root, width = 600,\n",
    "                 height = 600)\n",
    "  \n",
    "canvas1.pack(fill = \"both\", expand = True)\n",
    "  \n",
    "# Display image\n",
    "canvas1.create_image( 0, 0, image = bg, \n",
    "                     anchor = \"nw\")\n",
    "\n",
    "# Display image\n",
    "\n",
    "# root.geometry(\"1366x768\")\n",
    "def Take_input():\n",
    "    \n",
    "    INPUT = inputtxt.get(\"1.0\", \"end-1c\")\n",
    "    inp =[INPUT]    \n",
    "    input_text = vectorizer.transform(inp)   \n",
    "    Y_input_text = model.predict(input_text)       \n",
    "    Y_pred_Y_input_text = label_encoder.inverse_transform(Y_input_text)\n",
    "    Output.insert(END,Y_pred_Y_input_text[0] +\" \")\n",
    "       \n",
    "l = Label(text = \"Please enter ingredients list: \")\n",
    "inputtxt = Text(canvas1, height = 10,\n",
    "                width = 45,\n",
    "                bg = \"gainsboro\")\n",
    " \n",
    "Output = Text(canvas1, height = 5,\n",
    "              width = 45,\n",
    "              bg = \"gainsboro\")\n",
    " \n",
    "Display = Button(canvas1, height = 2,\n",
    "                 width = 50,\n",
    "                 text =\"Predict\",\n",
    "                 command = lambda:Take_input())\n",
    " \n",
    "l.place(x=200, y=20)\n",
    "inputtxt.place(x=200, y=40)\n",
    "Display.place(x=200, y=225)\n",
    "Output.place(x=200, y=300)\n",
    " \n",
    "mainloop()\n",
    "\n",
    "print (\"Predict on test data ... \")\n"
   ]
  },
  {
   "cell_type": "code",
   "execution_count": null,
   "metadata": {},
   "outputs": [],
   "source": []
  },
  {
   "cell_type": "code",
   "execution_count": null,
   "metadata": {},
   "outputs": [],
   "source": [
    "\n",
    "# from sklearn import preprocessing\n",
    "# mlb = preprocessing.MultiLabelBinarizer()\n",
    "# y_train_mlb = mlb.fit_transform(train.cuisine.values.reshape(-1,1))\n",
    "\n",
    "# X_train_0, X_test_0, y_train_0, y_test_0 = model_selection.train_test_split(X_train, y_train_mlb, test_size=0.2)\n",
    "\n",
    "# num_cuisines = y_train_mlb.shape[1]\n",
    "# num_feats = X_train.shape[1]\n",
    "\n",
    "# inputs = keras.Input(shape=(num_feats,))\n",
    "\n",
    "\n",
    "# X = keras.layers.Dense(2000, activation=None)(inputs)\n",
    "# X = keras.layers.BatchNormalization()(X)\n",
    "# X = keras.layers.Activation('relu')(X)\n",
    "# X = keras.layers.Dropout(0.8)(X)\n",
    "\n",
    "# X = keras.layers.Dense(1000, activation=None)(inputs)\n",
    "# X = keras.layers.BatchNormalization()(X)\n",
    "# X = keras.layers.Activation('softmax')(X)\n",
    "# X = keras.layers.Dropout(0.5)(X)\n",
    "\n",
    "\n",
    "# X = keras.layers.Dense(num_cuisines, activation=None)(X)\n",
    "# X = keras.layers.BatchNormalization()(X)\n",
    "# Y = keras.layers.Activation('softmax')(X)\n",
    "\n",
    "# model = keras.models.Model(inputs=inputs, outputs=Y)\n",
    "# model.compile(optimizer=\"adam\", loss='categorical_crossentropy',\n",
    "#               metrics=['accuracy'])\n",
    "\n",
    "# cb = keras.callbacks.ModelCheckpoint('cooking.weights.best.hdf5', monitor='val_acc', verbose=1, save_best_only=True, mode='max')\n",
    "# es = keras.callbacks.EarlyStopping(monitor='val_loss', patience=4)\n",
    "\n",
    "# history = model.fit(X_train_0, y_train_0, epochs=100, batch_size=64, validation_data=(X_test_0,y_test_0), callbacks=[cb, es])\n",
    "\n",
    "\n"
   ]
  },
  {
   "cell_type": "code",
   "execution_count": null,
   "metadata": {},
   "outputs": [],
   "source": [
    "# print(history.history.keys())\n",
    "# plt.plot(history.history['accuracy'])\n",
    "# plt.plot(history.history['val_accuracy'])\n",
    "# plt.title('model accuracy')\n",
    "# plt.ylabel('accuracy')\n",
    "# plt.xlabel('epoch')\n",
    "# plt.legend(['train', 'test'], loc='upper left')\n",
    "# plt.show()\n",
    "# # summarize history for loss\n",
    "# plt.plot(history.history['loss'])\n",
    "# plt.plot(history.history['val_loss'])\n",
    "# plt.title('model loss')\n",
    "# plt.ylabel('loss')\n",
    "# plt.xlabel('epoch')\n",
    "# plt.legend(['train', 'test'], loc='upper left')\n",
    "# plt.show()"
   ]
  },
  {
   "cell_type": "code",
   "execution_count": null,
   "metadata": {},
   "outputs": [],
   "source": [
    "# from sklearn import preprocessing\n",
    "# mlb = preprocessing.MultiLabelBinarizer()\n",
    "# y_train_mlb = mlb.fit_transform(train.cuisine.values.reshape(-1,1))\n",
    "\n",
    "# X_train_0, X_test_0, y_train_0, y_test_0 = model_selection.train_test_split(X_train, y_train_mlb, test_size=0.2)\n",
    "\n",
    "# num_cuisines = y_train_mlb.shape[1]\n",
    "# num_feats = X_train.shape[1]\n",
    "\n",
    "# inputs = keras.Input(shape=(num_feats,))\n",
    "\n",
    "\n",
    "# X = keras.layers.Dense(2000, activation=None)(inputs)\n",
    "# X = keras.layers.BatchNormalization()(X)\n",
    "# X = keras.layers.Activation('relu')(X)\n",
    "# X = keras.layers.Dropout(0.8)(X)\n",
    "\n",
    "# X = keras.layers.Dense(1024, activation=None)(inputs)\n",
    "# X = keras.layers.BatchNormalization()(X)\n",
    "# X = keras.layers.Activation('relu')(X)\n",
    "# X = keras.layers.Dropout(0.5)(X)\n",
    "\n",
    "# X = keras.layers.Dense(512, activation=None)(inputs)\n",
    "# X = keras.layers.BatchNormalization()(X)\n",
    "# X = keras.layers.Activation('relu')(X)\n",
    "# X = keras.layers.Dropout(0.5)(X)\n",
    "\n",
    "# X = keras.layers.Dense(64, activation=None)(inputs)\n",
    "# X = keras.layers.BatchNormalization()(X)\n",
    "# X = keras.layers.Activation('softmax')(X)\n",
    "# X = keras.layers.Dropout(0.5)(X)\n",
    "\n",
    "# X = keras.layers.Dense(num_cuisines, activation=None)(X)\n",
    "# X = keras.layers.BatchNormalization()(X)\n",
    "# Y = keras.layers.Activation('softmax')(X)\n",
    "\n",
    "# model = keras.models.Model(inputs=inputs, outputs=Y)\n",
    "# model.compile(optimizer=\"rmsprop\", loss='categorical_crossentropy',\n",
    "#               metrics=['accuracy'])\n",
    "\n",
    "# cb = keras.callbacks.ModelCheckpoint('cooking.weights.best.hdf5', monitor='val_acc', verbose=1, save_best_only=True, mode='max')\n",
    "# es = keras.callbacks.EarlyStopping(monitor='val_loss', patience=4)\n",
    "\n",
    "# history = model.fit(X_train_0, y_train_0, epochs=100, batch_size=64, validation_data=(X_test_0,y_test_0), callbacks=[cb, es])"
   ]
  }
 ],
 "metadata": {
  "kernelspec": {
   "display_name": "Python 3 (ipykernel)",
   "language": "python",
   "name": "python3"
  },
  "language_info": {
   "codemirror_mode": {
    "name": "ipython",
    "version": 3
   },
   "file_extension": ".py",
   "mimetype": "text/x-python",
   "name": "python",
   "nbconvert_exporter": "python",
   "pygments_lexer": "ipython3",
   "version": "3.10.8"
  },
  "widgets": {
   "application/vnd.jupyter.widget-state+json": {
    "state": {
     "3f655119f2ca49008063cc1603ea6c3d": {
      "model_module": "@jupyter-widgets/base",
      "model_module_version": "1.2.0",
      "model_name": "LayoutModel",
      "state": {
       "_model_module": "@jupyter-widgets/base",
       "_model_module_version": "1.2.0",
       "_model_name": "LayoutModel",
       "_view_count": null,
       "_view_module": "@jupyter-widgets/base",
       "_view_module_version": "1.2.0",
       "_view_name": "LayoutView",
       "align_content": null,
       "align_items": null,
       "align_self": null,
       "border": null,
       "bottom": null,
       "display": null,
       "flex": null,
       "flex_flow": null,
       "grid_area": null,
       "grid_auto_columns": null,
       "grid_auto_flow": null,
       "grid_auto_rows": null,
       "grid_column": null,
       "grid_gap": null,
       "grid_row": null,
       "grid_template_areas": null,
       "grid_template_columns": null,
       "grid_template_rows": null,
       "height": null,
       "justify_content": null,
       "justify_items": null,
       "left": null,
       "margin": null,
       "max_height": null,
       "max_width": null,
       "min_height": null,
       "min_width": null,
       "object_fit": null,
       "object_position": null,
       "order": null,
       "overflow": null,
       "overflow_x": null,
       "overflow_y": null,
       "padding": null,
       "right": null,
       "top": null,
       "visibility": null,
       "width": null
      }
     },
     "4c9001979a004d4dab67355c3743ecfd": {
      "model_module": "@jupyter-widgets/controls",
      "model_module_version": "1.5.0",
      "model_name": "DropdownModel",
      "state": {
       "_dom_classes": [],
       "_model_module": "@jupyter-widgets/controls",
       "_model_module_version": "1.5.0",
       "_model_name": "DropdownModel",
       "_options_labels": [
        "inch",
        "oz",
        "lb",
        "ounc",
        "%"
       ],
       "_view_count": null,
       "_view_module": "@jupyter-widgets/controls",
       "_view_module_version": "1.5.0",
       "_view_name": "DropdownView",
       "description": "unit",
       "description_tooltip": null,
       "disabled": false,
       "index": 0,
       "layout": "IPY_MODEL_8d2c27bd5fc142859cf729018b073445",
       "style": "IPY_MODEL_6760fb77173a4d8d8160a78fb93c8abb"
      }
     },
     "6760fb77173a4d8d8160a78fb93c8abb": {
      "model_module": "@jupyter-widgets/controls",
      "model_module_version": "1.5.0",
      "model_name": "DescriptionStyleModel",
      "state": {
       "_model_module": "@jupyter-widgets/controls",
       "_model_module_version": "1.5.0",
       "_model_name": "DescriptionStyleModel",
       "_view_count": null,
       "_view_module": "@jupyter-widgets/base",
       "_view_module_version": "1.2.0",
       "_view_name": "StyleView",
       "description_width": ""
      }
     },
     "7e7ffee186a64ca490de1bf42976187a": {
      "model_module": "@jupyter-widgets/controls",
      "model_module_version": "1.5.0",
      "model_name": "VBoxModel",
      "state": {
       "_dom_classes": [
        "widget-interact"
       ],
       "_model_module": "@jupyter-widgets/controls",
       "_model_module_version": "1.5.0",
       "_model_name": "VBoxModel",
       "_view_count": null,
       "_view_module": "@jupyter-widgets/controls",
       "_view_module_version": "1.5.0",
       "_view_name": "VBoxView",
       "box_style": "",
       "children": [
        "IPY_MODEL_4c9001979a004d4dab67355c3743ecfd",
        "IPY_MODEL_e15242a74c02427291a55c50898cba72"
       ],
       "layout": "IPY_MODEL_eed473e86b6e47ad83c90fb941722590"
      }
     },
     "8d2c27bd5fc142859cf729018b073445": {
      "model_module": "@jupyter-widgets/base",
      "model_module_version": "1.2.0",
      "model_name": "LayoutModel",
      "state": {
       "_model_module": "@jupyter-widgets/base",
       "_model_module_version": "1.2.0",
       "_model_name": "LayoutModel",
       "_view_count": null,
       "_view_module": "@jupyter-widgets/base",
       "_view_module_version": "1.2.0",
       "_view_name": "LayoutView",
       "align_content": null,
       "align_items": null,
       "align_self": null,
       "border": null,
       "bottom": null,
       "display": null,
       "flex": null,
       "flex_flow": null,
       "grid_area": null,
       "grid_auto_columns": null,
       "grid_auto_flow": null,
       "grid_auto_rows": null,
       "grid_column": null,
       "grid_gap": null,
       "grid_row": null,
       "grid_template_areas": null,
       "grid_template_columns": null,
       "grid_template_rows": null,
       "height": null,
       "justify_content": null,
       "justify_items": null,
       "left": null,
       "margin": null,
       "max_height": null,
       "max_width": null,
       "min_height": null,
       "min_width": null,
       "object_fit": null,
       "object_position": null,
       "order": null,
       "overflow": null,
       "overflow_x": null,
       "overflow_y": null,
       "padding": null,
       "right": null,
       "top": null,
       "visibility": null,
       "width": null
      }
     },
     "e15242a74c02427291a55c50898cba72": {
      "model_module": "@jupyter-widgets/output",
      "model_module_version": "1.0.0",
      "model_name": "OutputModel",
      "state": {
       "_dom_classes": [],
       "_model_module": "@jupyter-widgets/output",
       "_model_module_version": "1.0.0",
       "_model_name": "OutputModel",
       "_view_count": null,
       "_view_module": "@jupyter-widgets/output",
       "_view_module_version": "1.0.0",
       "_view_name": "OutputView",
       "layout": "IPY_MODEL_3f655119f2ca49008063cc1603ea6c3d",
       "msg_id": "",
       "outputs": []
      }
     },
     "eed473e86b6e47ad83c90fb941722590": {
      "model_module": "@jupyter-widgets/base",
      "model_module_version": "1.2.0",
      "model_name": "LayoutModel",
      "state": {
       "_model_module": "@jupyter-widgets/base",
       "_model_module_version": "1.2.0",
       "_model_name": "LayoutModel",
       "_view_count": null,
       "_view_module": "@jupyter-widgets/base",
       "_view_module_version": "1.2.0",
       "_view_name": "LayoutView",
       "align_content": null,
       "align_items": null,
       "align_self": null,
       "border": null,
       "bottom": null,
       "display": null,
       "flex": null,
       "flex_flow": null,
       "grid_area": null,
       "grid_auto_columns": null,
       "grid_auto_flow": null,
       "grid_auto_rows": null,
       "grid_column": null,
       "grid_gap": null,
       "grid_row": null,
       "grid_template_areas": null,
       "grid_template_columns": null,
       "grid_template_rows": null,
       "height": null,
       "justify_content": null,
       "justify_items": null,
       "left": null,
       "margin": null,
       "max_height": null,
       "max_width": null,
       "min_height": null,
       "min_width": null,
       "object_fit": null,
       "object_position": null,
       "order": null,
       "overflow": null,
       "overflow_x": null,
       "overflow_y": null,
       "padding": null,
       "right": null,
       "top": null,
       "visibility": null,
       "width": null
      }
     }
    },
    "version_major": 2,
    "version_minor": 0
   }
  }
 },
 "nbformat": 4,
 "nbformat_minor": 1
}
