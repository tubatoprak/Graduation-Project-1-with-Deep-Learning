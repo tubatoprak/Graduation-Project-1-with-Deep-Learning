{
 "cells": [
  {
   "cell_type": "code",
   "execution_count": 184,
   "id": "d5988e7f",
   "metadata": {},
   "outputs": [
    {
     "name": "stderr",
     "output_type": "stream",
     "text": [
      "ERROR: Could not find a version that satisfies the requirement ploty (from versions: none)\n",
      "ERROR: No matching distribution found for ploty\n"
     ]
    },
    {
     "data": {
      "text/html": [
       "        <script type=\"text/javascript\">\n",
       "        window.PlotlyConfig = {MathJaxConfig: 'local'};\n",
       "        if (window.MathJax && window.MathJax.Hub && window.MathJax.Hub.Config) {window.MathJax.Hub.Config({SVG: {font: \"STIX-Web\"}});}\n",
       "        if (typeof require !== 'undefined') {\n",
       "        require.undef(\"plotly\");\n",
       "        requirejs.config({\n",
       "            paths: {\n",
       "                'plotly': ['https://cdn.plot.ly/plotly-2.16.1.min']\n",
       "            }\n",
       "        });\n",
       "        require(['plotly'], function(Plotly) {\n",
       "            window._Plotly = Plotly;\n",
       "        });\n",
       "        }\n",
       "        </script>\n",
       "        "
      ]
     },
     "metadata": {},
     "output_type": "display_data"
    },
    {
     "name": "stdout",
     "output_type": "stream",
     "text": [
      "Requirement already satisfied: gensim in c:\\users\\toprak\\anaconda3\\envs\\bitirme\\lib\\site-packages (4.3.0)\n",
      "Requirement already satisfied: smart-open>=1.8.1 in c:\\users\\toprak\\anaconda3\\envs\\bitirme\\lib\\site-packages (from gensim) (6.3.0)\n",
      "Requirement already satisfied: FuzzyTM>=0.4.0 in c:\\users\\toprak\\anaconda3\\envs\\bitirme\\lib\\site-packages (from gensim) (2.0.5)\n",
      "Requirement already satisfied: scipy>=1.7.0 in c:\\users\\toprak\\anaconda3\\envs\\bitirme\\lib\\site-packages (from gensim) (1.7.3)\n",
      "Requirement already satisfied: Cython==0.29.32 in c:\\users\\toprak\\anaconda3\\envs\\bitirme\\lib\\site-packages (from gensim) (0.29.32)\n",
      "Requirement already satisfied: numpy>=1.18.5 in c:\\users\\toprak\\anaconda3\\envs\\bitirme\\lib\\site-packages (from gensim) (1.22.4)\n",
      "Requirement already satisfied: pyfume in c:\\users\\toprak\\anaconda3\\envs\\bitirme\\lib\\site-packages (from FuzzyTM>=0.4.0->gensim) (0.2.25)\n",
      "Requirement already satisfied: pandas in c:\\users\\toprak\\anaconda3\\envs\\bitirme\\lib\\site-packages (from FuzzyTM>=0.4.0->gensim) (1.5.1)\n",
      "Requirement already satisfied: pytz>=2020.1 in c:\\users\\toprak\\anaconda3\\envs\\bitirme\\lib\\site-packages (from pandas->FuzzyTM>=0.4.0->gensim) (2022.1)\n",
      "Requirement already satisfied: python-dateutil>=2.8.1 in c:\\users\\toprak\\anaconda3\\envs\\bitirme\\lib\\site-packages (from pandas->FuzzyTM>=0.4.0->gensim) (2.8.2)\n",
      "Requirement already satisfied: fst-pso in c:\\users\\toprak\\anaconda3\\envs\\bitirme\\lib\\site-packages (from pyfume->FuzzyTM>=0.4.0->gensim) (1.8.1)\n",
      "Requirement already satisfied: simpful in c:\\users\\toprak\\anaconda3\\envs\\bitirme\\lib\\site-packages (from pyfume->FuzzyTM>=0.4.0->gensim) (2.9.0)\n",
      "Requirement already satisfied: six>=1.5 in c:\\users\\toprak\\anaconda3\\envs\\bitirme\\lib\\site-packages (from python-dateutil>=2.8.1->pandas->FuzzyTM>=0.4.0->gensim) (1.16.0)\n",
      "Requirement already satisfied: miniful in c:\\users\\toprak\\anaconda3\\envs\\bitirme\\lib\\site-packages (from fst-pso->pyfume->FuzzyTM>=0.4.0->gensim) (0.0.6)\n",
      "Requirement already satisfied: requests in c:\\users\\toprak\\anaconda3\\envs\\bitirme\\lib\\site-packages (from simpful->pyfume->FuzzyTM>=0.4.0->gensim) (2.28.1)\n",
      "Requirement already satisfied: idna<4,>=2.5 in c:\\users\\toprak\\anaconda3\\envs\\bitirme\\lib\\site-packages (from requests->simpful->pyfume->FuzzyTM>=0.4.0->gensim) (3.4)\n",
      "Requirement already satisfied: charset-normalizer<3,>=2 in c:\\users\\toprak\\anaconda3\\envs\\bitirme\\lib\\site-packages (from requests->simpful->pyfume->FuzzyTM>=0.4.0->gensim) (2.0.4)\n",
      "Requirement already satisfied: certifi>=2017.4.17 in c:\\users\\toprak\\anaconda3\\envs\\bitirme\\lib\\site-packages (from requests->simpful->pyfume->FuzzyTM>=0.4.0->gensim) (2022.12.7)\n",
      "Requirement already satisfied: urllib3<1.27,>=1.21.1 in c:\\users\\toprak\\anaconda3\\envs\\bitirme\\lib\\site-packages (from requests->simpful->pyfume->FuzzyTM>=0.4.0->gensim) (1.26.12)\n"
     ]
    }
   ],
   "source": [
    "#Importing all the Libraries needed\n",
    "#Data Preprocessing\n",
    "from ipywidgets import interact\n",
    "import unidecode\n",
    "import pandas as pd\n",
    "import random\n",
    "import json\n",
    "from collections import Counter\n",
    "from itertools import chain\n",
    "from sklearn.feature_extraction.text import TfidfVectorizer\n",
    "import numpy as np\n",
    "import re\n",
    "#https://pypi.org/project/tqdm/ information on tqdm\n",
    "from tqdm import tqdm\n",
    "tqdm.pandas()\n",
    "\n",
    "#Data Visualization\n",
    "import matplotlib.pyplot as plt\n",
    "import seaborn as sns\n",
    "!pip install ploty\n",
    "import plotly\n",
    "from plotly import tools\n",
    "from plotly.offline import download_plotlyjs, init_notebook_mode, plot, iplot \n",
    "init_notebook_mode(connected=True)\n",
    "import plotly.offline as offline\n",
    "import plotly.graph_objs as go\n",
    "import plotly.express as px\n",
    "\n",
    "# Data Modeling\n",
    "from sklearn.feature_extraction.text import CountVectorizer\n",
    "!python -m pip install -U gensim\n",
    "from gensim.models import FastText, Word2Vec\n",
    "from sklearn.decomposition import TruncatedSVD\n",
    "from sklearn.feature_extraction.text import CountVectorizer, TfidfVectorizer\n",
    "from sklearn.linear_model import LogisticRegression\n",
    "from sklearn.metrics import accuracy_score\n",
    "from sklearn.model_selection import KFold, cross_validate, train_test_split\n",
    "from sklearn.preprocessing import LabelEncoder\n",
    "from sklearn.preprocessing import MultiLabelBinarizer\n",
    "from sklearn.preprocessing import FunctionTransformer, LabelEncoder\n",
    "from sklearn.pipeline import make_pipeline, make_union\n",
    "from sklearn.preprocessing import LabelEncoder\n",
    "from sklearn.svm import SVC\n",
    "from sklearn.multiclass import OneVsRestClassifier\n",
    "from sklearn import model_selection \n",
    "from nltk.stem import WordNetLemmatizer\n",
    "import warnings\n",
    "warnings.filterwarnings('ignore')\n",
    "\n",
    "import matplotlib.pyplot as plt\n",
    "tf.get_logger().setLevel('ERROR')\n",
    "\n",
    "sns.set(style='whitegrid', palette='muted', font_scale=1.2)\n",
    "HAPPY_COLORS_PALETTE = [\"#01BEFE\", \"#FFDD00\", \"#FF7D00\", \"#FF006D\", \"#ADFF02\", \"#8F00FF\"]\n",
    "sns.set_palette(sns.color_palette(HAPPY_COLORS_PALETTE))\n",
    "import warnings\n",
    "warnings.filterwarnings(\"ignore\")"
   ]
  },
  {
   "cell_type": "code",
   "execution_count": 185,
   "id": "e62a7ef7",
   "metadata": {},
   "outputs": [],
   "source": [
    "def random_colours(number_of_colors):\n",
    "    '''\n",
    "    Simple function for random colours generation.\n",
    "    Input:\n",
    "        number_of_colors - integer value indicating the number of colours which are going to be generated.\n",
    "    Output:\n",
    "        Color in the following format: ['#E86DA4'] .\n",
    "    '''\n",
    "    colors = []\n",
    "    for i in range(number_of_colors):\n",
    "        colors.append(\"#\"+''.join([random.choice('0123456789ABCDEF') for j in range(6)]))\n",
    "    return colors"
   ]
  },
  {
   "cell_type": "code",
   "execution_count": 186,
   "id": "9a4563a8",
   "metadata": {},
   "outputs": [],
   "source": [
    "train = pd.read_json(\"C:/Users/TOPRAK/Desktop/cook_recipe/train.json\")\n",
    "test = pd.read_json(\"C:/Users/TOPRAK/Desktop/cook_recipe/test.json\")"
   ]
  },
  {
   "cell_type": "code",
   "execution_count": 187,
   "id": "65a7c478",
   "metadata": {},
   "outputs": [
    {
     "name": "stdout",
     "output_type": "stream",
     "text": [
      "<class 'pandas.core.frame.DataFrame'>\n",
      "RangeIndex: 39774 entries, 0 to 39773\n",
      "Data columns (total 3 columns):\n",
      " #   Column       Non-Null Count  Dtype \n",
      "---  ------       --------------  ----- \n",
      " 0   id           39774 non-null  int64 \n",
      " 1   cuisine      39774 non-null  object\n",
      " 2   ingredients  39774 non-null  object\n",
      "dtypes: int64(1), object(2)\n",
      "memory usage: 932.3+ KB\n"
     ]
    }
   ],
   "source": [
    "train.info()"
   ]
  },
  {
   "cell_type": "code",
   "execution_count": 188,
   "id": "1a52c0e1",
   "metadata": {},
   "outputs": [
    {
     "data": {
      "text/html": [
       "<div>\n",
       "<style scoped>\n",
       "    .dataframe tbody tr th:only-of-type {\n",
       "        vertical-align: middle;\n",
       "    }\n",
       "\n",
       "    .dataframe tbody tr th {\n",
       "        vertical-align: top;\n",
       "    }\n",
       "\n",
       "    .dataframe thead th {\n",
       "        text-align: right;\n",
       "    }\n",
       "</style>\n",
       "<table border=\"1\" class=\"dataframe\">\n",
       "  <thead>\n",
       "    <tr style=\"text-align: right;\">\n",
       "      <th></th>\n",
       "      <th>id</th>\n",
       "      <th>cuisine</th>\n",
       "      <th>ingredients</th>\n",
       "    </tr>\n",
       "  </thead>\n",
       "  <tbody>\n",
       "    <tr>\n",
       "      <th>0</th>\n",
       "      <td>10259</td>\n",
       "      <td>greek</td>\n",
       "      <td>[romaine lettuce, black olives, grape tomatoes...</td>\n",
       "    </tr>\n",
       "    <tr>\n",
       "      <th>1</th>\n",
       "      <td>25693</td>\n",
       "      <td>southern_us</td>\n",
       "      <td>[plain flour, ground pepper, salt, tomatoes, g...</td>\n",
       "    </tr>\n",
       "    <tr>\n",
       "      <th>2</th>\n",
       "      <td>20130</td>\n",
       "      <td>filipino</td>\n",
       "      <td>[eggs, pepper, salt, mayonaise, cooking oil, g...</td>\n",
       "    </tr>\n",
       "    <tr>\n",
       "      <th>3</th>\n",
       "      <td>22213</td>\n",
       "      <td>indian</td>\n",
       "      <td>[water, vegetable oil, wheat, salt]</td>\n",
       "    </tr>\n",
       "    <tr>\n",
       "      <th>4</th>\n",
       "      <td>13162</td>\n",
       "      <td>indian</td>\n",
       "      <td>[black pepper, shallots, cornflour, cayenne pe...</td>\n",
       "    </tr>\n",
       "  </tbody>\n",
       "</table>\n",
       "</div>"
      ],
      "text/plain": [
       "      id      cuisine                                        ingredients\n",
       "0  10259        greek  [romaine lettuce, black olives, grape tomatoes...\n",
       "1  25693  southern_us  [plain flour, ground pepper, salt, tomatoes, g...\n",
       "2  20130     filipino  [eggs, pepper, salt, mayonaise, cooking oil, g...\n",
       "3  22213       indian                [water, vegetable oil, wheat, salt]\n",
       "4  13162       indian  [black pepper, shallots, cornflour, cayenne pe..."
      ]
     },
     "execution_count": 188,
     "metadata": {},
     "output_type": "execute_result"
    }
   ],
   "source": [
    "train.head()"
   ]
  },
  {
   "cell_type": "code",
   "execution_count": 189,
   "id": "337d9be9",
   "metadata": {},
   "outputs": [
    {
     "data": {
      "text/plain": [
       "<AxesSubplot: >"
      ]
     },
     "execution_count": 189,
     "metadata": {},
     "output_type": "execute_result"
    },
    {
     "data": {
      "image/png": "[encoded data removed]",
      "text/plain": [
       "<Figure size 1600x600 with 1 Axes>"
      ]
     },
     "metadata": {},
     "output_type": "display_data"
    }
   ],
   "source": [
    "train['cuisine'].unique()\n",
    "train['cuisine'].value_counts().plot.bar(color=random_colours(20),figsize=(16,6))\n"
   ]
  },
  {
   "cell_type": "code",
   "execution_count": 190,
   "id": "298d58c2",
   "metadata": {},
   "outputs": [],
   "source": [
    "# Taking Out all the ingredients in the dataset and storing in a list\n",
    "#Veri kümesindeki mazlemeleri rawda topla\n",
    "raw_ingredients = [ing for ingredients in train['ingredients'] for ing in ingredients]"
   ]
  },
  {
   "cell_type": "code",
   "execution_count": 191,
   "id": "32c59bf7",
   "metadata": {},
   "outputs": [
    {
     "name": "stdout",
     "output_type": "stream",
     "text": [
      "Maximum Number of Ingredients in a Cook:  65\n",
      "Minimum Number of Ingredients in a Cook:  1\n"
     ]
    }
   ],
   "source": [
    "#en uzun malzemeye sahip mutfak ve en az mutfak\n",
    "print('Maximum Number of Ingredients in a Cook: ',train['ingredients'].str.len().max())\n",
    "print('Minimum Number of Ingredients in a Cook: ',train['ingredients'].str.len().min())"
   ]
  },
  {
   "cell_type": "code",
   "execution_count": 192,
   "id": "67ffb3c9",
   "metadata": {},
   "outputs": [],
   "source": [
    "#Belirli bir Tarifte kullanılan Malzemelerin Sayısını sayan Bir Özellik Oluşturma\n",
    "train['num_ing'] = train['ingredients'].str.len()"
   ]
  },
  {
   "cell_type": "code",
   "execution_count": 193,
   "id": "9ab8eca8",
   "metadata": {},
   "outputs": [
    {
     "data": {
      "text/plain": [
       "<AxesSubplot: xlabel='num_ing', ylabel='count'>"
      ]
     },
     "execution_count": 193,
     "metadata": {},
     "output_type": "execute_result"
    },
    {
     "data": {
      "image/png": "[encoded data removed]",
      "text/plain": [
       "<Figure size 1600x600 with 1 Axes>"
      ]
     },
     "metadata": {},
     "output_type": "display_data"
    }
   ],
   "source": [
    "#Tarif uzunluğunun dağılımı ------------------------Kafası burada karışıyor modelin saf modelim :(\n",
    "plt.figure(figsize=(16,6))\n",
    "sns.countplot(x='num_ing',data=train)"
   ]
  },
  {
   "cell_type": "code",
   "execution_count": 194,
   "id": "12b170ae",
   "metadata": {},
   "outputs": [
    {
     "name": "stdout",
     "output_type": "stream",
     "text": [
      "40\n",
      "[list(['fettucine', 'fresh marjoram', 'minced garlic', 'olive oil', 'garlic powder', 'large eggs', 'Alfredo sauce', 'vegetable oil', 'cajun seasoning', 'shredded romano cheese', 'basil dried leaves', 'salt', 'cayenne pepper', 'scallions', 'red bell pepper', 'boneless skinless chicken breast halves', 'soba', 'pasta sauce', 'kosher salt', 'milk', 'fresh ginger', 'ground black pepper', 'flour', 'cooked chicken', 'coarse salt', 'lemon', 'diced tomatoes', 'garlic', 'rice vinegar', 'Neufchâtel', 'garlic cloves', 'dried parsley', 'frozen artichoke hearts', 'penne', 'pepper', 'sweet onion', 'part-skim mozzarella cheese', 'parmigiano reggiano cheese', 'basil leaves', 'onion powder', 'red wine vinegar', 'red pepper flakes', 'orzo', 'crushed red pepper', 'all-purpose flour', 'freshly ground pepper', 'sliced mushrooms', 'panko breadcrumbs', 'plum tomatoes', 'fresh basil', 'fresh leav spinach', 'water', 'sun-dried tomatoes', 'ground pepper', 'grated parmesan cheese', 'boneless skinless chicken breasts', 'chicken cutlets', 'butter', 'multi-grain penne pasta', 'extra-virgin olive oil', 'cilantro leaves', 'green pepper', 'shredded mozzarella cheese', 'fresh parsley', 'spaghetti'])]\n",
      "Cuisine :- ['italian']\n"
     ]
    }
   ],
   "source": [
    "#40 tarif 30'dan fazla malzemeden oluşuyor\n",
    "longrecip = train[train['num_ing'] > 30]\n",
    "print(len(longrecip))\n",
    "longrecip['cuisine'].value_counts()\n",
    "print(longrecip[longrecip['num_ing'] == 65]['ingredients'].values)\n",
    "print('Cuisine :-',longrecip[longrecip['num_ing'] == 65]['cuisine'].values)"
   ]
  },
  {
   "cell_type": "code",
   "execution_count": 195,
   "id": "eb4f8ac2",
   "metadata": {},
   "outputs": [
    {
     "name": "stdout",
     "output_type": "stream",
     "text": [
      "215\n"
     ]
    }
   ],
   "source": [
    "#iki malzemeli tariflerin sayısı\n",
    "shortrecip = train[train['num_ing']<=2]\n",
    "print(len(shortrecip))"
   ]
  },
  {
   "cell_type": "code",
   "execution_count": 196,
   "id": "43faa8a8",
   "metadata": {},
   "outputs": [
    {
     "data": {
      "text/plain": [
       "italian         37\n",
       "french          34\n",
       "southern_us     23\n",
       "mexican         22\n",
       "indian          19\n",
       "japanese        16\n",
       "vietnamese      11\n",
       "chinese         10\n",
       "spanish          8\n",
       "cajun_creole     7\n",
       "korean           5\n",
       "greek            4\n",
       "thai             4\n",
       "brazilian        3\n",
       "british          3\n",
       "filipino         3\n",
       "irish            3\n",
       "russian          1\n",
       "jamaican         1\n",
       "moroccan         1\n",
       "Name: cuisine, dtype: int64"
      ]
     },
     "execution_count": 196,
     "metadata": {},
     "output_type": "execute_result"
    }
   ],
   "source": [
    "shortrecip['cuisine'].value_counts()"
   ]
  },
  {
   "cell_type": "code",
   "execution_count": 197,
   "id": "136e4548",
   "metadata": {},
   "outputs": [],
   "source": [
    "#sil Outlier  -bir malzemeli olanları\n",
    "train = train[train['num_ing'] > 1]\n",
    "# remove outlier --- en fazla malzemeli olan tarif\n",
    "train = train[train['num_ing']<60]\n"
   ]
  },
  {
   "cell_type": "code",
   "execution_count": 198,
   "id": "3eda17e4",
   "metadata": {},
   "outputs": [
    {
     "name": "stdout",
     "output_type": "stream",
     "text": [
      "<class 'pandas.core.frame.DataFrame'>\n",
      "Int64Index: 39751 entries, 0 to 39773\n",
      "Data columns (total 4 columns):\n",
      " #   Column       Non-Null Count  Dtype \n",
      "---  ------       --------------  ----- \n",
      " 0   id           39751 non-null  int64 \n",
      " 1   cuisine      39751 non-null  object\n",
      " 2   ingredients  39751 non-null  object\n",
      " 3   num_ing      39751 non-null  int64 \n",
      "dtypes: int64(2), object(2)\n",
      "memory usage: 1.5+ MB\n"
     ]
    }
   ],
   "source": [
    "#22 değer yok \n",
    "train.info()"
   ]
  },
  {
   "cell_type": "code",
   "execution_count": 199,
   "id": "543adcbf",
   "metadata": {},
   "outputs": [
    {
     "data": {
      "text/plain": [
       "(39751, 4)"
      ]
     },
     "execution_count": 199,
     "metadata": {},
     "output_type": "execute_result"
    }
   ],
   "source": [
    "train.shape"
   ]
  },
  {
   "cell_type": "code",
   "execution_count": 200,
   "id": "444f6f55",
   "metadata": {},
   "outputs": [],
   "source": [
    "# lemmatizasyon\n",
    "\n",
    "lemmatizer = WordNetLemmatizer()\n",
    "def preprocess(ingredients):\n",
    "    ingredients_text = ' '.join(ingredients)\n",
    "    ingredients_text = ingredients_text.lower() #Lowercase yap\n",
    "    ingredients_text = ingredients_text.replace('-', ' ') # Remove tire Hyphen\n",
    "    words = []\n",
    "    for word in ingredients_text.split():\n",
    "        word = re.sub(\"[0-9]\",\" \",word) #   removing numbers,kesme işaret -punctuations and special characters\n",
    "        word = re.sub((r'\\b(oz|ounc|ounce|pound|lb|inch|inches|kg|to)\\b'), ' ', word) # Removing Units\n",
    "        if len(word) <= 2: continue # Removing words with less than two characters\n",
    "        word = unidecode.unidecode(word) #Removing accents\n",
    "        word = lemmatizer.lemmatize(word) #Lemmatize\n",
    "        if len(word) > 0: words.append(word)\n",
    "    return ' '.join(words)"
   ]
  },
  {
   "cell_type": "code",
   "execution_count": 201,
   "id": "f824bc65",
   "metadata": {},
   "outputs": [],
   "source": [
    "#Checking if our function works\n",
    "for ingredient, expected in [\n",
    "    ('Eggs', 'egg'),\n",
    "    ('all-purpose flour', 'all purpose flour'),\n",
    "    ('purée', 'puree'),\n",
    "    ('1% low-fat milk', 'low fat milk'),\n",
    "    ('half & half', 'half half'),\n",
    "    ('safetida (powder)', 'safetida (powder)')\n",
    "]:\n",
    "    actual = preprocess([ingredient])\n",
    "    assert actual == expected, f'\"{expected}\" is excpected but got \"{actual}\"'"
   ]
  },
  {
   "cell_type": "code",
   "execution_count": 202,
   "id": "e592df85",
   "metadata": {},
   "outputs": [
    {
     "name": "stderr",
     "output_type": "stream",
     "text": [
      "100%|██████████████████████████████████████████████████████████████████████████| 39751/39751 [00:07<00:00, 5194.34it/s]\n",
      "100%|████████████████████████████████████████████████████████████████████████████| 9944/9944 [00:01<00:00, 5333.50it/s]\n"
     ]
    },
    {
     "data": {
      "text/html": [
       "<div>\n",
       "<style scoped>\n",
       "    .dataframe tbody tr th:only-of-type {\n",
       "        vertical-align: middle;\n",
       "    }\n",
       "\n",
       "    .dataframe tbody tr th {\n",
       "        vertical-align: top;\n",
       "    }\n",
       "\n",
       "    .dataframe thead th {\n",
       "        text-align: right;\n",
       "    }\n",
       "</style>\n",
       "<table border=\"1\" class=\"dataframe\">\n",
       "  <thead>\n",
       "    <tr style=\"text-align: right;\">\n",
       "      <th></th>\n",
       "      <th>id</th>\n",
       "      <th>cuisine</th>\n",
       "      <th>ingredients</th>\n",
       "      <th>num_ing</th>\n",
       "      <th>x</th>\n",
       "    </tr>\n",
       "  </thead>\n",
       "  <tbody>\n",
       "    <tr>\n",
       "      <th>0</th>\n",
       "      <td>10259</td>\n",
       "      <td>greek</td>\n",
       "      <td>[romaine lettuce, black olives, grape tomatoes...</td>\n",
       "      <td>9</td>\n",
       "      <td>romaine lettuce black olive grape tomato garli...</td>\n",
       "    </tr>\n",
       "    <tr>\n",
       "      <th>1</th>\n",
       "      <td>25693</td>\n",
       "      <td>southern_us</td>\n",
       "      <td>[plain flour, ground pepper, salt, tomatoes, g...</td>\n",
       "      <td>11</td>\n",
       "      <td>plain flour ground pepper salt tomato ground b...</td>\n",
       "    </tr>\n",
       "    <tr>\n",
       "      <th>2</th>\n",
       "      <td>20130</td>\n",
       "      <td>filipino</td>\n",
       "      <td>[eggs, pepper, salt, mayonaise, cooking oil, g...</td>\n",
       "      <td>12</td>\n",
       "      <td>egg pepper salt mayonaise cooking oil green ch...</td>\n",
       "    </tr>\n",
       "    <tr>\n",
       "      <th>3</th>\n",
       "      <td>22213</td>\n",
       "      <td>indian</td>\n",
       "      <td>[water, vegetable oil, wheat, salt]</td>\n",
       "      <td>4</td>\n",
       "      <td>water vegetable oil wheat salt</td>\n",
       "    </tr>\n",
       "    <tr>\n",
       "      <th>4</th>\n",
       "      <td>13162</td>\n",
       "      <td>indian</td>\n",
       "      <td>[black pepper, shallots, cornflour, cayenne pe...</td>\n",
       "      <td>20</td>\n",
       "      <td>black pepper shallot cornflour cayenne pepper ...</td>\n",
       "    </tr>\n",
       "  </tbody>\n",
       "</table>\n",
       "</div>"
      ],
      "text/plain": [
       "      id      cuisine                                        ingredients  \\\n",
       "0  10259        greek  [romaine lettuce, black olives, grape tomatoes...   \n",
       "1  25693  southern_us  [plain flour, ground pepper, salt, tomatoes, g...   \n",
       "2  20130     filipino  [eggs, pepper, salt, mayonaise, cooking oil, g...   \n",
       "3  22213       indian                [water, vegetable oil, wheat, salt]   \n",
       "4  13162       indian  [black pepper, shallots, cornflour, cayenne pe...   \n",
       "\n",
       "   num_ing                                                  x  \n",
       "0        9  romaine lettuce black olive grape tomato garli...  \n",
       "1       11  plain flour ground pepper salt tomato ground b...  \n",
       "2       12  egg pepper salt mayonaise cooking oil green ch...  \n",
       "3        4                     water vegetable oil wheat salt  \n",
       "4       20  black pepper shallot cornflour cayenne pepper ...  "
      ]
     },
     "execution_count": 202,
     "metadata": {},
     "output_type": "execute_result"
    }
   ],
   "source": [
    "#progress_apply(preprocess) bar şeklinde göstererek virgül silmek için stakoverflowdan düzenle \n",
    "train['x'] = train['ingredients'].progress_apply(preprocess)\n",
    "test['x'] = test['ingredients'].progress_apply(preprocess)\n",
    "train.head()"
   ]
  },
  {
   "cell_type": "code",
   "execution_count": 203,
   "id": "bb8e6ddb",
   "metadata": {},
   "outputs": [],
   "source": [
    "train.drop(['id', 'ingredients','num_ing'], axis=1,inplace =True)"
   ]
  },
  {
   "cell_type": "code",
   "execution_count": 204,
   "id": "867e462a",
   "metadata": {},
   "outputs": [
    {
     "data": {
      "text/html": [
       "<div>\n",
       "<style scoped>\n",
       "    .dataframe tbody tr th:only-of-type {\n",
       "        vertical-align: middle;\n",
       "    }\n",
       "\n",
       "    .dataframe tbody tr th {\n",
       "        vertical-align: top;\n",
       "    }\n",
       "\n",
       "    .dataframe thead th {\n",
       "        text-align: right;\n",
       "    }\n",
       "</style>\n",
       "<table border=\"1\" class=\"dataframe\">\n",
       "  <thead>\n",
       "    <tr style=\"text-align: right;\">\n",
       "      <th></th>\n",
       "      <th>cuisine</th>\n",
       "      <th>x</th>\n",
       "    </tr>\n",
       "  </thead>\n",
       "  <tbody>\n",
       "    <tr>\n",
       "      <th>0</th>\n",
       "      <td>greek</td>\n",
       "      <td>romaine lettuce black olive grape tomato garli...</td>\n",
       "    </tr>\n",
       "    <tr>\n",
       "      <th>1</th>\n",
       "      <td>southern_us</td>\n",
       "      <td>plain flour ground pepper salt tomato ground b...</td>\n",
       "    </tr>\n",
       "    <tr>\n",
       "      <th>2</th>\n",
       "      <td>filipino</td>\n",
       "      <td>egg pepper salt mayonaise cooking oil green ch...</td>\n",
       "    </tr>\n",
       "    <tr>\n",
       "      <th>3</th>\n",
       "      <td>indian</td>\n",
       "      <td>water vegetable oil wheat salt</td>\n",
       "    </tr>\n",
       "    <tr>\n",
       "      <th>4</th>\n",
       "      <td>indian</td>\n",
       "      <td>black pepper shallot cornflour cayenne pepper ...</td>\n",
       "    </tr>\n",
       "  </tbody>\n",
       "</table>\n",
       "</div>"
      ],
      "text/plain": [
       "       cuisine                                                  x\n",
       "0        greek  romaine lettuce black olive grape tomato garli...\n",
       "1  southern_us  plain flour ground pepper salt tomato ground b...\n",
       "2     filipino  egg pepper salt mayonaise cooking oil green ch...\n",
       "3       indian                     water vegetable oil wheat salt\n",
       "4       indian  black pepper shallot cornflour cayenne pepper ..."
      ]
     },
     "execution_count": 204,
     "metadata": {},
     "output_type": "execute_result"
    }
   ],
   "source": [
    "train.head()"
   ]
  },
  {
   "cell_type": "code",
   "execution_count": 205,
   "id": "af88eb5b",
   "metadata": {},
   "outputs": [],
   "source": [
    "trainfeatures=train.copy()\n",
    "trainlabels=trainfeatures.pop(\"cuisine\")\n",
    "trainfeatures=trainfeatures.values"
   ]
  },
  {
   "cell_type": "code",
   "execution_count": 206,
   "id": "e4bcb17b",
   "metadata": {},
   "outputs": [
    {
     "data": {
      "text/plain": [
       "(39751, 20)"
      ]
     },
     "execution_count": 206,
     "metadata": {},
     "output_type": "execute_result"
    }
   ],
   "source": [
    "from sklearn.preprocessing import LabelBinarizer\n",
    "binarizer=LabelBinarizer()\n",
    "trainlabels=binarizer.fit_transform(trainlabels.values)\n",
    "trainlabels.shape"
   ]
  }
 ],
 "metadata": {
  "kernelspec": {
   "display_name": "Python 3 (ipykernel)",
   "language": "python",
   "name": "python3"
  },
  "language_info": {
   "codemirror_mode": {
    "name": "ipython",
    "version": 3
   },
   "file_extension": ".py",
   "mimetype": "text/x-python",
   "name": "python",
   "nbconvert_exporter": "python",
   "pygments_lexer": "ipython3",
   "version": "3.10.8"
  }
 },
 "nbformat": 4,
 "nbformat_minor": 5
}
